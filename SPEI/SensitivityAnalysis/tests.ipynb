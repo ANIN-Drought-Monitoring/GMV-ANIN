{
 "cells": [
  {
   "cell_type": "code",
   "execution_count": null,
   "metadata": {},
   "outputs": [],
   "source": [
    "import xarray as xr\n",
    "import matplotlib.pyplot as plt\n",
    "from scipy.stats import gaussian_kde\n",
    "import seaborn as sns\n",
    "import pandas as pd\n",
    "\n",
    "\n",
    "import numpy as np"
   ]
  },
  {
   "attachments": {},
   "cell_type": "markdown",
   "metadata": {},
   "source": [
    "#### Priestley-Taylor vs Penman-Monteith"
   ]
  },
  {
   "cell_type": "code",
   "execution_count": null,
   "metadata": {},
   "outputs": [],
   "source": [
    "# Load the Priestley-Taylor NetCDF file\n",
    "nc_file = 'Insert the path to your Priestley-Taylor NetCDF file'  \n",
    "dataset = xr.open_dataset(nc_file)\n",
    "\n",
    "variable = dataset['__xarray_dataarray_variable__'][3]\n",
    "\n",
    "# Extract the variable's data\n",
    "data = variable.values\n",
    "data_flat = data.flatten()\n",
    "\n",
    "# Clean the data by removing NaN and infinite values\n",
    "data_flat_cleaned_PT = data_flat[~np.isnan(data_flat) & ~np.isinf(data_flat)]\n",
    "\n",
    "# Calculate the mean of the cleaned data\n",
    "mean_PT = np.nanmean(data_flat_cleaned_PT)\n",
    "sd_PT = np.nanstd(data_flat_cleaned_PT)\n"
   ]
  },
  {
   "cell_type": "code",
   "execution_count": null,
   "metadata": {},
   "outputs": [],
   "source": [
    "# Load the Penman-Monteith NetCDF file\n",
    "nc_file = 'Insert the path to your Penman-Monteith NetCDF file'  \n",
    "dataset = xr.open_dataset(nc_file)\n",
    "\n",
    "variable = dataset['__xarray_dataarray_variable__'][3]\n",
    "\n",
    "# Extract the variable's data\n",
    "data_base = variable.values\n",
    "data_flat_base = data.flatten()\n",
    "\n",
    "# Clean the data by removing NaN and infinite values\n",
    "data_flat_cleaned_base = data_flat_base[~np.isnan(data_flat_base) & ~np.isinf(data_flat_base)]\n",
    "\n",
    "# Calculate the mean of the data\n",
    "mean_base = np.nanmean(data_flat_cleaned_base)\n",
    "sd_base = np.nanstd(data_flat_cleaned_base)"
   ]
  },
  {
   "cell_type": "code",
   "execution_count": null,
   "metadata": {},
   "outputs": [],
   "source": [
    "# Estimate the probability density\n",
    "kde = gaussian_kde(data_flat_cleaned_PT)\n",
    "x_vals = np.linspace(data_flat_cleaned_PT.min(), data_flat_cleaned_PT.max(), 1000)\n",
    "y_vals = kde(x_vals)\n",
    "\n",
    "# Estimate the probability density for the second variable\n",
    "kde_base = gaussian_kde(data_flat_cleaned_base)\n",
    "x_vals_base = np.linspace(data_flat_cleaned_base.min(), data_flat_cleaned_base.max(), 1000)\n",
    "y_vals_base = kde_base(x_vals_base)\n",
    "\n",
    "# Create and display the density plot with both lines and a legend with means and SD on separate lines\n",
    "plt.plot(x_vals, y_vals, color='lightsalmon', label=f'Priestley-Taylor equation\\nMean: {mean_PT:.2f}\\nSD: {sd_PT:.2f}', linewidth=3)\n",
    "plt.plot(x_vals_base, y_vals_base, color='blue', label=f'Penman-Monteith\\nMean: {mean_base:.2f}\\nSD: {sd_base:.2f}', linewidth=1)  # Add the second line\n",
    "\n",
    "plt.axvline(mean_PT, color='red', linestyle='dashed', linewidth=1)\n",
    "plt.axvline(mean_base, color='blue', linestyle='dashed', linewidth=1)\n",
    "\n",
    "plt.xlabel('Values')\n",
    "plt.ylabel('Probability Density')\n",
    "plt.title('Density Plot of the Variables')\n",
    "\n",
    "# Enable multi-line legend labels\n",
    "plt.legend(loc='upper right')\n",
    "\n",
    "plt.show()\n"
   ]
  },
  {
   "attachments": {},
   "cell_type": "markdown",
   "metadata": {},
   "source": [
    "#### Hargreaves vs Penman-Monteith"
   ]
  },
  {
   "cell_type": "code",
   "execution_count": null,
   "metadata": {},
   "outputs": [],
   "source": [
    "# Load the Hargreaves NetCDF file\n",
    "nc_file = 'Insert the path to your Hargreaves NetCDF file' \n",
    "dataset = xr.open_dataset(nc_file)\n",
    "\n",
    "variable = dataset['__xarray_dataarray_variable__'][3]\n",
    "\n",
    "# Extract the variable's data\n",
    "data = variable.values\n",
    "data_flat = data.flatten()\n",
    "\n",
    "# Clean the data by removing NaN and infinite values\n",
    "data_flat_cleaned_H = data_flat[~np.isnan(data_flat) & ~np.isinf(data_flat)]\n",
    "\n",
    "# Calculate the mean of the cleaned data\n",
    "mean_H = np.nanmean(data_flat_cleaned_H)\n",
    "sd_H = np.nanstd(data_flat_cleaned_H)\n"
   ]
  },
  {
   "cell_type": "code",
   "execution_count": null,
   "metadata": {},
   "outputs": [],
   "source": [
    "# Estimate the probability density\n",
    "kde = gaussian_kde(data_flat_cleaned_H)\n",
    "x_vals = np.linspace(data_flat_cleaned_H.min(), data_flat_cleaned_H.max(), 1000)\n",
    "y_vals = kde(x_vals)\n",
    "\n",
    "# Estimate the probability density for the second variable\n",
    "kde_base = gaussian_kde(data_flat_cleaned_base)\n",
    "x_vals_base = np.linspace(data_flat_cleaned_base.min(), data_flat_cleaned_base.max(), 1000)\n",
    "y_vals_base = kde_base(x_vals_base)\n",
    "\n",
    "# Create and display the density plot with both lines and a legend with means and SD on separate lines\n",
    "plt.plot(x_vals, y_vals, color='lightsalmon', label=f'Hargreaves equation\\nMean: {mean_H:.2f}\\nSD: {sd_H:.2f}', linewidth=3)\n",
    "plt.plot(x_vals_base, y_vals_base, color='blue', label=f'Penman-Monteith\\nMean: {mean_base:.2f}\\nSD: {sd_base:.2f}', linewidth=1)  # Add the second line\n",
    "\n",
    "plt.axvline(mean_H, color='red', linestyle='dashed', linewidth=1)\n",
    "plt.axvline(mean_base, color='blue', linestyle='dashed', linewidth=1)\n",
    "\n",
    "plt.xlabel('Values')\n",
    "plt.ylabel('Probability Density')\n",
    "plt.title('Density Plot of the Variables')\n",
    "\n",
    "# Enable multi-line legend labels\n",
    "plt.legend(loc='upper right')\n",
    "\n",
    "plt.show()"
   ]
  },
  {
   "attachments": {},
   "cell_type": "markdown",
   "metadata": {},
   "source": [
    "#### Blaney-Criddle vs Penman-Monteith"
   ]
  },
  {
   "cell_type": "code",
   "execution_count": null,
   "metadata": {},
   "outputs": [],
   "source": [
    "# Load the Blaney-Criddle NetCDF file\n",
    "nc_file = 'Insert the path to your Blaney-Criddle NetCDF file' \n",
    "dataset = xr.open_dataset(nc_file)\n",
    "\n",
    "variable = dataset['__xarray_dataarray_variable__'][3]\n",
    "\n",
    "# Extract the variable's data\n",
    "data = variable.values\n",
    "data_flat = data.flatten()\n",
    "\n",
    "# Clean the data by removing NaN and infinite values\n",
    "data_flat_cleaned_BC = data_flat[~np.isnan(data_flat) & ~np.isinf(data_flat)]\n",
    "\n",
    "# Calculate the mean of the cleaned data\n",
    "mean_BC = np.nanmean(data_flat_cleaned_BC)\n",
    "sd_BC = np.nanstd(data_flat_cleaned_BC)\n"
   ]
  },
  {
   "cell_type": "code",
   "execution_count": null,
   "metadata": {},
   "outputs": [],
   "source": [
    "# Estimate the probability density\n",
    "kde = gaussian_kde(data_flat_cleaned_BC)\n",
    "x_vals = np.linspace(data_flat_cleaned_BC.min(), data_flat_cleaned_BC.max(), 1000)\n",
    "y_vals = kde(x_vals)\n",
    "\n",
    "# Estimate the probability density for the second variable\n",
    "kde_base = gaussian_kde(data_flat_cleaned_base)\n",
    "x_vals_base = np.linspace(data_flat_cleaned_base.min(), data_flat_cleaned_base.max(), 1000)\n",
    "y_vals_base = kde_base(x_vals_base)\n",
    "\n",
    "# Create and display the density plot with both lines and a legend with means and SD on separate lines\n",
    "plt.plot(x_vals, y_vals, color='lightsalmon', label=f'Blaney-Criddle equation\\nMean: {mean_BC:.2f}\\nSD: {sd_BC:.2f}', linewidth=3)\n",
    "plt.plot(x_vals_base, y_vals_base, color='blue', label=f'Penman-Monteith\\nMean: {mean_base:.2f}\\nSD: {sd_base:.2f}', linewidth=1)  # Add the second line\n",
    "\n",
    "plt.axvline(mean_BC, color='red', linestyle='dashed', linewidth=1)\n",
    "plt.axvline(mean_base, color='blue', linestyle='dashed', linewidth=1)\n",
    "\n",
    "plt.xlabel('Values')\n",
    "plt.ylabel('Probability Density')\n",
    "plt.title('Density Plot of the Variables')\n",
    "\n",
    "# Enable multi-line legend labels\n",
    "plt.legend(loc='upper right')\n",
    "\n",
    "plt.show()\n"
   ]
  },
  {
   "attachments": {},
   "cell_type": "markdown",
   "metadata": {},
   "source": [
    "#### Violines"
   ]
  },
  {
   "cell_type": "code",
   "execution_count": null,
   "metadata": {},
   "outputs": [],
   "source": [
    "# Set the style of the plots\n",
    "sns.set(style=\"whitegrid\", palette=\"pastel\")\n",
    "\n",
    "# Create a figure with 4 subplots side by side\n",
    "fig, axes = plt.subplots(1, 4, figsize=(8, 6))\n",
    "\n",
    "# Create a violin plot for each dataset in its respective subplot\n",
    "sns.violinplot(y=data_flat_cleaned_base, ax=axes[0], color=\"skyblue\", orient=\"v\")\n",
    "sns.violinplot(y=data_flat_cleaned_PT, ax=axes[1], color=\"salmon\", orient=\"v\")\n",
    "sns.violinplot(y=data_flat_cleaned_H, ax=axes[2], color=\"lightgreen\", orient=\"v\")\n",
    "sns.violinplot(y=data_flat_cleaned_BC, ax=axes[3], color=\"lightcoral\", orient=\"v\")\n",
    "\n",
    "# Customize the titles of the subplots\n",
    "axes[0].set_title(\"Base\")\n",
    "axes[1].set_title(\"PT\")\n",
    "axes[2].set_title(\"H\")\n",
    "axes[3].set_title(\"BC\")\n",
    "\n",
    "# Automatically adjust the space between the subplots\n",
    "plt.tight_layout()\n",
    "\n",
    "# Show the plots\n",
    "plt.show()\n"
   ]
  }
 ],
 "metadata": {
  "kernelspec": {
   "display_name": "PyEnv",
   "language": "python",
   "name": "python3"
  },
  "language_info": {
   "codemirror_mode": {
    "name": "ipython",
    "version": 3
   },
   "file_extension": ".py",
   "mimetype": "text/x-python",
   "name": "python",
   "nbconvert_exporter": "python",
   "pygments_lexer": "ipython3",
   "version": "3.9.16"
  },
  "orig_nbformat": 4,
  "vscode": {
   "interpreter": {
    "hash": "d4213db1b92f27a0df3bdb0f8c208fc37d0294f1bbcda358f5217b3f00267894"
   }
  }
 },
 "nbformat": 4,
 "nbformat_minor": 2
}
