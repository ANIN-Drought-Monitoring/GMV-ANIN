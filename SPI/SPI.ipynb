{
 "cells": [
  {
   "attachments": {},
   "cell_type": "markdown",
   "metadata": {},
   "source": [
    "#### IMPORTS"
   ]
  },
  {
   "cell_type": "code",
   "execution_count": 1,
   "metadata": {},
   "outputs": [],
   "source": [
    "import numpy as np\n",
    "import pandas as pd\n",
    "import geopandas as gpd\n",
    "import xarray as xr\n",
    "import rioxarray as rxr\n",
    "from pyproj import CRS\n",
    "from shapely.geometry import mapping\n",
    "from rasterio.enums import Resampling\n",
    "\n",
    "import climate_indices\n",
    "from climate_indices import indices"
   ]
  },
  {
   "attachments": {},
   "cell_type": "markdown",
   "metadata": {},
   "source": [
    "#### SETTING PARAMETERS"
   ]
  },
  {
   "cell_type": "code",
   "execution_count": null,
   "metadata": {},
   "outputs": [],
   "source": [
    "############################################################################ SETTING PARAMETERS  for the SPI #################################################################\n",
    "\n",
    "scale = 3\n",
    "distribution = climate_indices.indices.Distribution.gamma  # Fixed\n",
    "data_start_year = 1980\n",
    "calibration_year_initial = 1980\n",
    "calibration_year_final = 2023\n",
    "periodicity = climate_indices.compute.Periodicity.monthly  # Fixed\n",
    "\n",
    "######################################################################################### CRS ############################################################################\n",
    "\n",
    "crs_project = CRS.from_epsg(4326)  # WGS84\n",
    "\n",
    "######################################################################################### INPUTS ############################################################################\n",
    "\n",
    "ERA5_input_path =  'C:\\\\Insert\\\\path\\\\to\\\\monthly\\\\ERA5_land\\\\data.nc'\n",
    "\n",
    "shapefile_path = \"C:\\\\Insert\\\\path\\\\to\\\\shapefile\\\\shapefile.shp\"\n",
    "\n",
    "######################################################################################### OUPUTS ############################################################################\n",
    "\n",
    "path_out = \"C:\\\\Insert\\\\path\\\\to\\\\output\\\\directory\\\\\"  #'Insert path to the output directory'\n",
    "\n",
    "SPI_ouput_file = \"SPI_test.nc\"  #'Output file name'"
   ]
  },
  {
   "attachments": {},
   "cell_type": "markdown",
   "metadata": {},
   "source": [
    "#### DEFINING FUNCTIONS"
   ]
  },
  {
   "cell_type": "code",
   "execution_count": 14,
   "metadata": {},
   "outputs": [],
   "source": [
    "# Load the shapefile\n",
    "def load_shape_file(filepath):\n",
    "    \"\"\"Loads the shape file desired to mask a grid.\n",
    "    Args:\n",
    "        filepath: Path to *.shp file\n",
    "    \"\"\"\n",
    "    shpfile = gpd.read_file(filepath)\n",
    "    print(\n",
    "        \"\"\"Shapefile loaded. To prepare for masking, run the function\n",
    "        `select_shape`.\"\"\"\n",
    "    )\n",
    "    return shpfile\n",
    "\n",
    "\n",
    "# Create the mask\n",
    "def select_shape(shpfile):\n",
    "    \"\"\"Select the submask of interest from the shapefile.\n",
    "    Args:\n",
    "        shpfile: (*.shp) loaded through `load_shape_file`\n",
    "        category: (str) header of shape file from which to filter shape.\n",
    "            (Run print(shpfile) to see options)\n",
    "        name: (str) name of shape relative to category.\n",
    "           Returns:\n",
    "        shapely polygon\n",
    "    \"\"\"\n",
    "\n",
    "    col_code = \"ISO3_CODE\"\n",
    "    country_codes = [\"ZAF\", \"LSO\", \"SWZ\"]\n",
    "\n",
    "    # Extract the rows that have 'ZAF', 'LSO', or 'SWZ' in the 'SOV_A3' column\n",
    "    selected_rows = shpfile[shpfile[col_code].isin(country_codes)]\n",
    "\n",
    "    # Combine the selected polygons into a single polygon\n",
    "    unioned_polygon = selected_rows.geometry.unary_union\n",
    "\n",
    "    # Convert the unioned polygon to a geopandas dataframe with a single row\n",
    "    mask_polygon = gpd.GeoDataFrame(geometry=[unioned_polygon])\n",
    "\n",
    "    print(\"\"\"Mask created.\"\"\")\n",
    "\n",
    "    return mask_polygon\n",
    "\n",
    "\n",
    "# Processing the data (masking and reshaping)\n",
    "def proccessingNETCDF(data):\n",
    "    \"\"\"Process the data to serve as input to de SPI function\n",
    "    Args:\n",
    "        data: netcdf file\n",
    "\n",
    "        Returns\n",
    "        DataArrayGroupBy grouped over point (y and x coordinates)\n",
    "    \"\"\"\n",
    "    num_days_month = data.time.dt.days_in_month\n",
    "\n",
    "    data_precip = (\n",
    "        data * 2.908522800670776e-07\n",
    "    ) + 0.009530702520736942  # Rescaling the values\n",
    "    data_precip = (\n",
    "        data_precip * 1000 * num_days_month\n",
    "    )  # The original units are meters, we change them to milimeters, and multiply by the days of the month\n",
    "\n",
    "    # Reverse the Y dimension values to increasing values (This is an issue of ERA5 datasets and other climatic datasets)\n",
    "    data_precip = data_precip.rename({\"y\": \"lat\", \"x\": \"lon\"})  # Necessary step\n",
    "    data_precip = data_precip.reindex(lat=list(reversed(data_precip[\"lat\"])))\n",
    "    data_precip = data_precip.rename({\"lat\": \"y\", \"lon\": \"x\"})\n",
    "\n",
    "    # Mask the country\n",
    "    data_precip_masked = data_precip.rio.clip(\n",
    "        mask_layer.geometry.apply(mapping),\n",
    "        crs=mask_layer.crs,\n",
    "        all_touched=True,\n",
    "        from_disk=True,\n",
    "    ).squeeze()\n",
    "\n",
    "    # Giving the appropriate shape to da data\n",
    "    data_grouped = data_precip_masked.stack(point=(\"y\", \"x\")).groupby(\"point\")\n",
    "    print(\n",
    "        \"\"\"Data is prepared to serve\n",
    "         as input for the SPI index.\"\"\"\n",
    "    )\n",
    "\n",
    "    return data_grouped"
   ]
  },
  {
   "attachments": {},
   "cell_type": "markdown",
   "metadata": {},
   "source": [
    "#### ERA5 DATA"
   ]
  },
  {
   "cell_type": "code",
   "execution_count": 15,
   "metadata": {},
   "outputs": [],
   "source": [
    "# Loading the data\n",
    "data = rxr.open_rasterio(ERA5_input_path, masked=True)\n",
    "# Giving a CRS\n",
    "data.rio.write_crs(crs_project, inplace=True)\n",
    "# Getting precipitation values\n",
    "data = data[\"tp\"]"
   ]
  },
  {
   "attachments": {},
   "cell_type": "markdown",
   "metadata": {},
   "source": [
    "#### MASK LAYER"
   ]
  },
  {
   "cell_type": "code",
   "execution_count": null,
   "metadata": {},
   "outputs": [],
   "source": [
    "# Load de shp\n",
    "shpfile = load_shape_file(shapefile_path)  # Boundaries\n",
    "\n",
    "# Create the mask layer\n",
    "mask_layer = select_shape(shpfile)\n",
    "# Giving a CRS\n",
    "mask_layer.crs = crs_project"
   ]
  },
  {
   "attachments": {},
   "cell_type": "markdown",
   "metadata": {},
   "source": [
    "#### DATA PROCESSING"
   ]
  },
  {
   "cell_type": "code",
   "execution_count": null,
   "metadata": {},
   "outputs": [],
   "source": [
    "data_grouped = proccessingNETCDF(data)"
   ]
  },
  {
   "attachments": {},
   "cell_type": "markdown",
   "metadata": {},
   "source": [
    "#### APPLY SPI FUNCTION"
   ]
  },
  {
   "cell_type": "code",
   "execution_count": null,
   "metadata": {},
   "outputs": [],
   "source": [
    "#####https://github.com/monocongo/climate_indices\n",
    "spi_values = xr.apply_ufunc(\n",
    "    indices.spi,\n",
    "    data_grouped,\n",
    "    scale,\n",
    "    distribution,\n",
    "    data_start_year,\n",
    "    calibration_year_initial,\n",
    "    calibration_year_final,\n",
    "    periodicity,\n",
    ")\n",
    "\n",
    "# Unstack the array back into original dimensions\n",
    "spi_results = spi_values.unstack(\"point\")"
   ]
  },
  {
   "cell_type": "code",
   "execution_count": 20,
   "metadata": {},
   "outputs": [],
   "source": [
    "spi_results = spi_results.rio.reproject_match(\n",
    "    data, resampling=Resampling.bilinear, nodata=np.nan\n",
    ")"
   ]
  },
  {
   "attachments": {},
   "cell_type": "markdown",
   "metadata": {},
   "source": [
    "#### EXPORTING"
   ]
  },
  {
   "cell_type": "code",
   "execution_count": 24,
   "metadata": {},
   "outputs": [],
   "source": [
    "spi_results.to_netcdf(f\"{path_out}{SPI_ouput_file}\")"
   ]
  }
 ],
 "metadata": {
  "kernelspec": {
   "display_name": "anin",
   "language": "python",
   "name": "python3"
  },
  "language_info": {
   "codemirror_mode": {
    "name": "ipython",
    "version": 3
   },
   "file_extension": ".py",
   "mimetype": "text/x-python",
   "name": "python",
   "nbconvert_exporter": "python",
   "pygments_lexer": "ipython3",
   "version": "3.11.9"
  },
  "orig_nbformat": 4
 },
 "nbformat": 4,
 "nbformat_minor": 2
}
