{
 "cells": [
  {
   "attachments": {},
   "cell_type": "markdown",
   "metadata": {},
   "source": [
    "#### IMPORTS"
   ]
  },
  {
   "cell_type": "code",
   "execution_count": 45,
   "metadata": {},
   "outputs": [],
   "source": [
    "import numpy as np\n",
    "import pandas as pd\n",
    "import geopandas as gpd\n",
    "import xarray as xr\n",
    "import rioxarray as rxr\n",
    "from pyproj import CRS\n",
    "from shapely.geometry import mapping\n",
    "\n",
    "import climate_indices\n",
    "from climate_indices import indices\n"
   ]
  },
  {
   "attachments": {},
   "cell_type": "markdown",
   "metadata": {},
   "source": [
    "#### SETTING PARAMETERS"
   ]
  },
  {
   "cell_type": "code",
   "execution_count": 46,
   "metadata": {},
   "outputs": [],
   "source": [
    "############################################################################ SETTING PARAMETERS  for the SPI #################################################################\n",
    "\n",
    "scale = 3\n",
    "distribution = climate_indices.indices.Distribution.gamma   #Fixed\n",
    "data_start_year = 1980\n",
    "calibration_year_initial = 1980\n",
    "calibration_year_final = 2023\n",
    "periodicity = climate_indices.compute.Periodicity.monthly   #Fixed\n",
    "\n",
    "######################################################################################### CRS ############################################################################\n",
    "\n",
    "crs_project = CRS.from_epsg(4326) #WGS84\n",
    "\n",
    "######################################################################################### INPUTS ############################################################################\n",
    "\n",
    "ERA5_input_path = 'C:/ANIN/SPI/data/ERA5_monthly.nc'\n",
    "\n",
    "######################################################################################### OUPUTS ############################################################################\n",
    "\n",
    "path_out = \"C:/ANIN/SPI/outputs/\"\n",
    "SPI_ouput_file = \"SPI_test.nc\""
   ]
  },
  {
   "attachments": {},
   "cell_type": "markdown",
   "metadata": {},
   "source": [
    "#### DEFINING FUNCTIONS"
   ]
  },
  {
   "cell_type": "code",
   "execution_count": 47,
   "metadata": {},
   "outputs": [],
   "source": [
    "# Load the shapefile\n",
    "def load_shape_file(filepath):\n",
    "    \"\"\"Loads the shape file desired to mask a grid.\n",
    "    Args:\n",
    "        filepath: Path to *.shp file\n",
    "    \"\"\"\n",
    "    shpfile = gpd.read_file(filepath)\n",
    "    print(\"\"\"Shapefile loaded. To prepare for masking, run the function\n",
    "        `select_shape`.\"\"\")\n",
    "    return shpfile\n",
    "\n",
    "#Create the mask\n",
    "def select_shape(shpfile):\n",
    "\n",
    "    \"\"\"Select the submask of interest from the shapefile.\n",
    "    Args:\n",
    "        shpfile: (*.shp) loaded through `load_shape_file`\n",
    "        category: (str) header of shape file from which to filter shape.\n",
    "            (Run print(shpfile) to see options)\n",
    "        name: (str) name of shape relative to category.\n",
    "           Returns:\n",
    "        shapely polygon\n",
    "    \"\"\"\n",
    "\n",
    "    col_code = 'ISO3_CODE'\n",
    "    country_codes = ['ZAF', 'LSO', 'SWZ']\n",
    "\n",
    "    # Extract the rows that have 'ZAF', 'LSO', or 'SWZ' in the 'SOV_A3' column\n",
    "    selected_rows = shpfile[shpfile[col_code].isin(country_codes)]\n",
    "\n",
    "    # Combine the selected polygons into a single polygon\n",
    "    unioned_polygon = selected_rows.geometry.unary_union\n",
    "\n",
    "    # Convert the unioned polygon to a geopandas dataframe with a single row\n",
    "    mask_polygon = gpd.GeoDataFrame(geometry=[unioned_polygon])\n",
    "    \n",
    "    print(\"\"\"Mask created.\"\"\")\n",
    "\n",
    "    return mask_polygon\n",
    "\n",
    "#Processing the data (masking and reshaping)\n",
    "def proccessingNETCDF(data): \n",
    "    \"\"\"Process the data to serve as input to de SPI function\n",
    "    Args:\n",
    "        data: netcdf file\n",
    "\n",
    "        Returns\n",
    "        DataArrayGroupBy grouped over point (y and x coordinates)\n",
    "    \"\"\"\n",
    "    num_days_month = data.time.dt.days_in_month\n",
    "\n",
    "    data_precip = (data * 2.908522800670776e-07) + 0.009530702520736942 #Rescaling the values\n",
    "    data_precip = data_precip*1000*num_days_month  # The original units are meters, we change them to milimeters, and multiply by the days of the month\n",
    "  \n",
    "    # Reverse the Y dimension values to increasing values (This is an issue of ERA5 datasets and other climatic datasets)\n",
    "    data_precip = data_precip.rename({'y': 'lat', 'x':'lon'})       #Necessary step\n",
    "    data_precip = data_precip.reindex(lat=list(reversed(data_precip['lat'])))\n",
    "    data_precip = data_precip.rename({'lat': 'y', 'lon':'x'})\n",
    "\n",
    "    #Mask the country\n",
    "    data_precip_masked = data_precip.rio.clip(mask_layer.geometry.apply(mapping), crs=mask_layer.crs, all_touched=True, from_disk=True).squeeze()\n",
    "\n",
    "    #Giving the appropriate shape to da data\n",
    "    data_grouped = data_precip_masked.stack(point=('y', 'x')).groupby('point')\n",
    "    print(\"\"\"Data is prepared to serve\n",
    "         as input for the SPI index.\"\"\")\n",
    "\n",
    "    return data_grouped\n"
   ]
  },
  {
   "attachments": {},
   "cell_type": "markdown",
   "metadata": {},
   "source": [
    "#### ERA5 DATA"
   ]
  },
  {
   "cell_type": "code",
   "execution_count": 48,
   "metadata": {},
   "outputs": [],
   "source": [
    "#Loading the data\n",
    "data = rxr.open_rasterio(ERA5_input_path, masked=True)\n",
    "#Giving a CRS\n",
    "data.rio.write_crs(crs_project, inplace=True)\n",
    "#Getting precipitation values\n",
    "data = data['tp']"
   ]
  },
  {
   "attachments": {},
   "cell_type": "markdown",
   "metadata": {},
   "source": [
    "#### MASK LAYER"
   ]
  },
  {
   "cell_type": "code",
   "execution_count": 49,
   "metadata": {},
   "outputs": [
    {
     "name": "stdout",
     "output_type": "stream",
     "text": [
      "Shapefile loaded. To prepare for masking, run the function\n",
      "        `select_shape`.\n",
      "Mask created.\n"
     ]
    }
   ],
   "source": [
    "#Load de shp\n",
    "shpfile = load_shape_file('C:/ANIN/clip_layer/CNTR_RG_01M_2020_4326.shp')  #Once we decide the layer for each index it has to be fixed\n",
    "\n",
    "#Create the mask layer\n",
    "mask_layer = select_shape(shpfile)\n",
    "#Giving a CRS\n",
    "mask_layer.crs = crs_project"
   ]
  },
  {
   "attachments": {},
   "cell_type": "markdown",
   "metadata": {},
   "source": [
    "#### DATA PROCESSING"
   ]
  },
  {
   "cell_type": "code",
   "execution_count": 50,
   "metadata": {},
   "outputs": [
    {
     "name": "stdout",
     "output_type": "stream",
     "text": [
      "Data is prepared to serve\n",
      "         as input for the SPI index.\n"
     ]
    }
   ],
   "source": [
    "data_grouped = proccessingNETCDF(data)"
   ]
  },
  {
   "attachments": {},
   "cell_type": "markdown",
   "metadata": {},
   "source": [
    "#### APPLY SPI FUNCTION"
   ]
  },
  {
   "cell_type": "code",
   "execution_count": 51,
   "metadata": {},
   "outputs": [],
   "source": [
    "#####https://github.com/monocongo/climate_indices\n",
    "spi_values = xr.apply_ufunc(indices.spi,\n",
    "                            data_grouped,\n",
    "                            scale,\n",
    "                            distribution,\n",
    "                            data_start_year,\n",
    "                            calibration_year_initial,\n",
    "                            calibration_year_final,\n",
    "                            periodicity)\n",
    "\n",
    "# Unstack the array back into original dimensions\n",
    "spi_results = spi_values.unstack('point')"
   ]
  },
  {
   "attachments": {},
   "cell_type": "markdown",
   "metadata": {},
   "source": [
    "#### EXPORTING"
   ]
  },
  {
   "cell_type": "code",
   "execution_count": 52,
   "metadata": {},
   "outputs": [],
   "source": [
    "spi_results.to_netcdf(f'{path_out}{SPI_ouput_file}')"
   ]
  }
 ],
 "metadata": {
  "kernelspec": {
   "display_name": "PyEnv",
   "language": "python",
   "name": "python3"
  },
  "language_info": {
   "codemirror_mode": {
    "name": "ipython",
    "version": 3
   },
   "file_extension": ".py",
   "mimetype": "text/x-python",
   "name": "python",
   "nbconvert_exporter": "python",
   "pygments_lexer": "ipython3",
   "version": "3.9.16"
  },
  "orig_nbformat": 4,
  "vscode": {
   "interpreter": {
    "hash": "d4213db1b92f27a0df3bdb0f8c208fc37d0294f1bbcda358f5217b3f00267894"
   }
  }
 },
 "nbformat": 4,
 "nbformat_minor": 2
}
