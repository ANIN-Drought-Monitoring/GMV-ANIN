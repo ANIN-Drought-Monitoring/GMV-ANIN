{
 "cells": [
  {
   "cell_type": "code",
   "execution_count": 1,
   "id": "22a2ddad",
   "metadata": {},
   "outputs": [
    {
     "name": "stderr",
     "output_type": "stream",
     "text": [
      "C:\\Users\\enhi\\AppData\\Local\\Temp\\ipykernel_16728\\4077202506.py:4: UserWarning: Shapely 2.0 is installed, but because PyGEOS is also installed, GeoPandas will still use PyGEOS by default for now. To force to use and test Shapely 2.0, you have to set the environment variable USE_PYGEOS=0. You can do this before starting the Python process, or in your code before importing geopandas:\n",
      "\n",
      "import os\n",
      "os.environ['USE_PYGEOS'] = '0'\n",
      "import geopandas\n",
      "\n",
      "In a future release, GeoPandas will switch to using Shapely by default. If you are using PyGEOS directly (calling PyGEOS functions on geometries from GeoPandas), this will then stop working and you are encouraged to migrate from PyGEOS to Shapely 2.0 (https://shapely.readthedocs.io/en/latest/migration_pygeos.html).\n",
      "  import geopandas as gpd\n"
     ]
    }
   ],
   "source": [
    "import os\n",
    "import rioxarray as rxr\n",
    "from shapely.geometry import mapping\n",
    "import geopandas as gpd\n",
    "import rasterio as rio\n",
    "from rioxarray.merge import merge_arrays"
   ]
  },
  {
   "cell_type": "code",
   "execution_count": 2,
   "id": "6aa3f183",
   "metadata": {},
   "outputs": [],
   "source": [
    "main_dir = r'C:\\Users\\enhi\\OneDrive - gmv.com\\Documents\\Projects\\ANIN\\Generating Indices\\VCI\\NDVI-16\\Trial\\Tiles'\n",
    "#Tiles_path = os.path.join(main_dir, 'Tiles')\n",
    "Tile_1 = os.path.join(main_dir, 'tile_1')\n",
    "Tile_2 = os.path.join(main_dir, 'tile_2')\n",
    "Tile_3 = os.path.join(main_dir, 'tile_3')\n",
    "Tile_4 = os.path.join(main_dir, 'tile_4')\n",
    "\n",
    "Images_in_tile1 = sorted(os.listdir(Tile_1))\n",
    "Images_in_tile2 = sorted(os.listdir(Tile_2))\n",
    "Images_in_tile3 = sorted(os.listdir(Tile_3))\n",
    "Images_in_tile4 = sorted(os.listdir(Tile_4))"
   ]
  },
  {
   "cell_type": "code",
   "execution_count": 3,
   "id": "17913336",
   "metadata": {},
   "outputs": [
    {
     "name": "stderr",
     "output_type": "stream",
     "text": [
      "C:\\Users\\enhi\\Anaconda3\\envs\\rasterio\\Lib\\site-packages\\geopandas\\geoseries.py:622: FutureWarning: The series.append method is deprecated and will be removed from pandas in a future version. Use pandas.concat instead.\n",
      "  val = getattr(super(), mtd)(*args, **kwargs)\n"
     ]
    }
   ],
   "source": [
    "Boundary = os.path.join(main_dir, 'Boundary')\n",
    "South_Africa = gpd.read_file(Boundary + '\\\\'+ 'ZAF_adm0.shp')\n",
    "lesotho = gpd.read_file(Boundary + '\\\\'+ 'LSO_adm0.shp')\n",
    "eswatini = gpd.read_file(Boundary +'\\\\'+  'swz_admbnda_adm0_CSO_2007.shp')\n",
    "merged = South_Africa.geometry.append(eswatini.geometry)\n",
    "merged =merged.geometry.append(lesotho.geometry)"
   ]
  },
  {
   "cell_type": "code",
   "execution_count": 5,
   "id": "02c04a15",
   "metadata": {},
   "outputs": [],
   "source": [
    "Clipped_path = os.path.join(main_dir, 'Clipped_trial')\n",
    "for i in range (0 , len(Images_in_tile4)):\n",
    "    tile1 = rxr.open_rasterio(Tile_1 + '\\\\'+ Images_in_tile1[i], masked=True)\n",
    "    tile2 = rxr.open_rasterio(Tile_2 + '\\\\'+ Images_in_tile2[i], masked=True)\n",
    "    tile3 = rxr.open_rasterio(Tile_3 + '\\\\'+ Images_in_tile3[i], masked=True)\n",
    "    tile4 = rxr.open_rasterio(Tile_4 + '\\\\'+ Images_in_tile4[i], masked=True)\n",
    "    merged_raster = merge_arrays(dataarrays = [tile1['250m 16 days NDVI'], tile2['250m 16 days NDVI'],\n",
    "                                               tile3['250m 16 days NDVI'],tile4['250m 16 days NDVI']])\n",
    "    clipped = merged_raster.rio.clip(merged.geometry.apply(mapping),\n",
    "                                     crs=merged.crs,\n",
    "                                     all_touched=True,\n",
    "                                     from_disk=True).squeeze()\n",
    "    year = Clipped_path + '\\\\'+ Images_in_tile1[i][9:13]\n",
    "    check_folder_year = os.path.isdir(year)\n",
    "    if not check_folder_year:\n",
    "        os.makedirs(year)\n",
    "    \n",
    "    clipped.rio.to_raster(year + '\\\\'+ Images_in_tile1[i]+ '.tif')"
   ]
  }
 ],
 "metadata": {
  "kernelspec": {
   "display_name": "rasterio",
   "language": "python",
   "name": "rasterio"
  },
  "language_info": {
   "codemirror_mode": {
    "name": "ipython",
    "version": 3
   },
   "file_extension": ".py",
   "mimetype": "text/x-python",
   "name": "python",
   "nbconvert_exporter": "python",
   "pygments_lexer": "ipython3",
   "version": "3.11.0"
  }
 },
 "nbformat": 4,
 "nbformat_minor": 5
}
