{
 "cells": [
  {
   "cell_type": "markdown",
   "id": "e1ebb615",
   "metadata": {},
   "source": [
    "# Libraries"
   ]
  },
  {
   "cell_type": "code",
   "execution_count": 1,
   "id": "76d70796",
   "metadata": {
    "scrolled": true
   },
   "outputs": [],
   "source": [
    "import os\n",
    "import xarray as xr\n",
    "import rioxarray as rxr"
   ]
  },
  {
   "cell_type": "markdown",
   "id": "f5ba27b1",
   "metadata": {},
   "source": [
    "# Directories"
   ]
  },
  {
   "cell_type": "code",
   "execution_count": 33,
   "id": "82513b37",
   "metadata": {},
   "outputs": [],
   "source": [
    "main_dir = r'C:\\Users\\enhi\\OneDrive - gmv.com\\Documents\\Projects\\ANIN\\Generating Indices\\VCI\\NDVI-16\\Trial\\Tiles\\Crop_mask_new'\n",
    "# Open the Phenology image which contains 4 bands of start and end of\n",
    "# first and second seasons downloaded from ASAP-Global land surface phenology\n",
    "Phenology = rxr.open_rasterio(main_dir  +'\\\\' + 'Phenology.tif',masked=True)\n",
    "# Resampled (to 300m) over South Africa of \n",
    "# CCI LAND COVER - S2 PROTOTYPE LAND COVER 20M MAP OF AFRICA 2016\n",
    "Land_cover_CCI = rxr.open_rasterio(main_dir + '\\\\' +'LC_300m.tif', masked = True)\n",
    "# Land cover of Sentinel3 at 300m resolution over South Africa\n",
    "Land_cover_S3 = rxr.open_rasterio(main_dir + '\\\\' +'LC_South Africa300.tif', masked = True)\n",
    "# Reprojection of Land cover of Sentinel3 to match Land_cover_CCI\n",
    "Land_cover_S3 = Land_cover_S3.rio.reproject_match(Land_cover_CCI)"
   ]
  },
  {
   "cell_type": "markdown",
   "id": "bf31ce1f",
   "metadata": {},
   "source": [
    "Tiff files of phenology containg value V which is expressed over a 3 years period, from 1 to 108 dekads (i.e. ten day periods). This is done to be able to treat the circular variable dekad as an ordinal variable. To get the timing T in the 1-36 dekad units (calendar year): i)if value V is smaller or eaual with 36, then T=V, ii) if value V is larger than 36 and smaller or equal with 72, then T= V-36,and iii)if value V is larger than 72, then T=V-72."
   ]
  },
  {
   "cell_type": "code",
   "execution_count": 9,
   "id": "7eb9fe74",
   "metadata": {},
   "outputs": [
    {
     "name": "stderr",
     "output_type": "stream",
     "text": [
      "C:\\Users\\enhi\\Anaconda3\\envs\\rasterio\\Lib\\site-packages\\rioxarray\\_io.py:428: NodataShadowWarning: The dataset's nodata attribute is shadowing the alpha band. All masks will be determined by the nodata attribute\n",
      "  out = riods.read(band_key, window=window, masked=self.masked)\n"
     ]
    }
   ],
   "source": [
    "# This code is to make all values to be between 0 and 36 \n",
    "# which express each dekad during the year\n",
    "Phenology_new = xr.where((Phenology > 36) & (Phenology <= 72), Phenology - 36, Phenology)\n",
    "Phenology_new = xr.where(Phenology_new> 72 , Phenology_new - 72,Phenology_new)"
   ]
  },
  {
   "cell_type": "code",
   "execution_count": 11,
   "id": "646ec43d",
   "metadata": {},
   "outputs": [],
   "source": [
    "# Accumlating the dekads to months\n",
    "count = 0\n",
    "P = Phenology_new\n",
    "for i in range(0,12):\n",
    "    # Example for the first iteration:\n",
    "    # when start or end of seasons are from 1 to 3, replace them by 1 \n",
    "    # which means January\n",
    "    P = xr.where((Phenology_new > (0 + count)) & (Phenology_new <= (3 +count)), 1+i, P)\n",
    "    count = count+3\n",
    "    "
   ]
  },
  {
   "cell_type": "code",
   "execution_count": null,
   "id": "04619b22",
   "metadata": {},
   "outputs": [],
   "source": [
    "# List of months to be used for the names of files\n",
    "months = ['January', 'February', 'March', 'April', 'May', 'June', 'July', 'August', 'September',\n",
    "          'October', 'November', 'December']\n",
    "for month in range(0,12):\n",
    "    # Bitwise operations to determine if the pixel is on the growing season\n",
    "    # The growing season is all months between start and end of season\n",
    "    # The output for a pixel is 1 if the month is in  growing season and 0 if not.\n",
    "    Growing_season = (xr.where(\n",
    "        # This part for the first growing season as P[0] represents the start of the first season\n",
    "        # while P[1] represents the end of the first season\n",
    "        ( (P[0]==month+1) | (P[1] ==month+1) | ((P[0]>month+1) & (P[1]<P[0]) \n",
    "                    & (P[1]>month+1)) | ((P[0]<month+1) & (P[1]>month+1)) )\n",
    "        # This part for the second growing season as P[2] represents the start of the second season\n",
    "        # while P[3] represents the end of the second season\n",
    "                          |((P[2]==month+1) | (P[3] ==month+1) | ((P[2]>month+1) & (P[3]<P[2]) \n",
    "                    & (P[3]>month+1)) | ((P[2]<month+1) & (P[3]>month+1))) , 1,0))\n",
    "    # Crop maks when the month is in the growing season and the land cover is crops based on \n",
    "    # Land_cover_S3 and Land_cover_CCI\n",
    "    Crop_mask = xr.where((Growing_season == 1) & ( ((Land_cover_S3>=11) & (Land_cover_S3<=30)) | (Land_cover_CCI==4) ),1,0)\n",
    "    # Nan values if it is 0 (mask out these values)\n",
    "    Crop_mask = Crop_mask.where(Crop_mask!=0)\n",
    "    # Transpose the xarray to be consistent with exporting function\n",
    "    Crop_mask = Crop_mask.transpose('band', 'y', 'x')\n",
    "    # Put CRS for the crop mask\n",
    "    Crop_mask= Crop_mask.rio.write_crs(Land_cover_CCI.rio.crs)\n",
    "    # Exporting crop mask as tiff file for each month\n",
    "    Crop_mask.rio.to_raster(main_dir+'\\\\'+ 'Crop_mask'+'\\\\'+ months[month]+ '.tif')"
   ]
  }
 ],
 "metadata": {
  "kernelspec": {
   "display_name": "rasterio",
   "language": "python",
   "name": "rasterio"
  },
  "language_info": {
   "codemirror_mode": {
    "name": "ipython",
    "version": 3
   },
   "file_extension": ".py",
   "mimetype": "text/x-python",
   "name": "python",
   "nbconvert_exporter": "python",
   "pygments_lexer": "ipython3",
   "version": "3.11.0"
  }
 },
 "nbformat": 4,
 "nbformat_minor": 5
}
