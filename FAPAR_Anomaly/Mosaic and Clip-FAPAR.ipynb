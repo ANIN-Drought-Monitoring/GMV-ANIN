{
 "cells": [
  {
   "cell_type": "markdown",
   "id": "0f6193c4",
   "metadata": {},
   "source": [
    "## Libraries"
   ]
  },
  {
   "cell_type": "code",
   "execution_count": null,
   "id": "22a2ddad",
   "metadata": {},
   "outputs": [],
   "source": [
    "import os\n",
    "import rioxarray as rxr\n",
    "from shapely.geometry import mapping\n",
    "import geopandas as gpd\n",
    "import rasterio as rio\n",
    "from rioxarray.merge import merge_arrays"
   ]
  },
  {
   "cell_type": "markdown",
   "id": "4110198c",
   "metadata": {},
   "source": [
    "## The aim of this Notebook is to mosaic 4 tiles and clip them to AOI using long time series data"
   ]
  },
  {
   "cell_type": "code",
   "execution_count": null,
   "id": "6aa3f183",
   "metadata": {},
   "outputs": [],
   "source": [
    "# Set main directories and paths\n",
    "main_dir = 'path_to_main_directory'\n",
    "Clipped_path = os.path.join(main_dir, 'Clipped_FAPAR')\n",
    "Boundary = os.path.join(main_dir, 'Boundary')\n",
    "Tile_1 = os.path.join(main_dir, 'tile_1')\n",
    "Tile_2 = os.path.join(main_dir, 'tile_2')\n",
    "Tile_3 = os.path.join(main_dir, 'tile_3')\n",
    "Tile_4 = os.path.join(main_dir, 'tile_4')\n",
    "Images_in_tile1 = sorted(os.listdir(Tile_1))\n",
    "Images_in_tile2 = sorted(os.listdir(Tile_2))\n",
    "Images_in_tile3 = sorted(os.listdir(Tile_3))\n",
    "Images_in_tile4 = sorted(os.listdir(Tile_4))\n",
    "Copernicus_ex = rxr.open_rasterio(os.path.join(main_dir, 'example_copernicus_fapar.tif'), masked=True)"
   ]
  },
  {
   "cell_type": "code",
   "execution_count": null,
   "id": "17913336",
   "metadata": {},
   "outputs": [],
   "source": [
    "# Load the shapefile\n",
    "def load_shape_file(filepath):\n",
    "    \"\"\"Loads the shape file to create a mask for AOI clipping.\"\"\"\n",
    "    shpfile = gpd.read_file(filepath)\n",
    "    print(\"Shapefile loaded. To prepare for masking, run the function `select_shape`.\")\n",
    "    return shpfile\n",
    "\n",
    "# Create AOI mask from shapefile\n",
    "def select_shape(shpfile):\n",
    "    col_code = 'ISO3_CODE'\n",
    "    country_codes = ['ZAF', 'LSO', 'SWZ']\n",
    "    selected_rows = shpfile[shpfile[col_code].isin(country_codes)]\n",
    "    unioned_polygon = selected_rows.geometry.unary_union\n",
    "    mask_polygon = gpd.GeoDataFrame(geometry=[unioned_polygon])\n",
    "    print(\"Mask created.\")\n",
    "    return mask_polygon\n",
    "\n",
    "shpfile = load_shape_file(os.path.join(Boundary, 'boundary_shapefile.shp'))\n",
    "merged = select_shape(shpfile)"
   ]
  },
  {
   "cell_type": "code",
   "execution_count": null,
   "id": "c54669c8",
   "metadata": {},
   "outputs": [],
   "source": [
    "# Set CRS of AOI mask based on Copernicus example\n",
    "Copernicus_ex_crs = Copernicus_ex.rio.crs\n",
    "merged.crs = Copernicus_ex_crs"
   ]
  },
  {
   "cell_type": "code",
   "execution_count": null,
   "id": "02c04a15",
   "metadata": {},
   "outputs": [],
   "source": [
    "# Process each image in tiles and mosaic them\n",
    "for i in range(len(Images_in_tile4)):\n",
    "    tile1 = rxr.open_rasterio(os.path.join(Tile_1, Images_in_tile1[i]), masked=True)\n",
    "    tile2 = rxr.open_rasterio(os.path.join(Tile_2, Images_in_tile2[i]), masked=True)\n",
    "    tile3 = rxr.open_rasterio(os.path.join(Tile_3, Images_in_tile3[i]), masked=True)\n",
    "    tile4 = rxr.open_rasterio(os.path.join(Tile_4, Images_in_tile4[i]), masked=True)\n",
    "    \n",
    "    # Mosaic tiles\n",
    "    merged_raster = merge_arrays(dataarrays=[tile1, tile2, tile3, tile4])\n",
    "    \n",
    "    # Clip mosaic to AOI\n",
    "    clipped = merged_raster.rio.clip(merged.geometry.apply(mapping), crs=merged.crs, all_touched=True, from_disk=True).squeeze()\n",
    "    \n",
    "    # Set directory for output clipped images by year\n",
    "    year_dir = os.path.join(Clipped_path, Images_in_tile1[i][16:20])\n",
    "    if not os.path.isdir(year_dir):\n",
    "        os.makedirs(year_dir)\n",
    "    \n",
    "    # Save clipped image\n",
    "    clipped.rio.to_raster(os.path.join(year_dir, Images_in_tile1[i] + '.tif'))"
   ]
  }
 ],
 "metadata": {
  "kernelspec": {
   "display_name": "Python 3",
   "language": "python",
   "name": "python3"
  },
  "language_info": {
   "codemirror_mode": {
    "name": "ipython",
    "version": 3
   },
   "file_extension": ".py",
   "mimetype": "text/x-python",
   "name": "python",
   "nbconvert_exporter": "python",
   "pygments_lexer": "ipython3",
   "version": "3.8.8"
  }
 },
 "nbformat": 4,
 "nbformat_minor": 5
}
