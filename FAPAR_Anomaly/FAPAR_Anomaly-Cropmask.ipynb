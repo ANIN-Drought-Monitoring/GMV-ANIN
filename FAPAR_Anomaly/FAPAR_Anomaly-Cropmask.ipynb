{
 "cells": [
  {
   "cell_type": "markdown",
   "id": "fba22678",
   "metadata": {},
   "source": [
    "# Libraries"
   ]
  },
  {
   "cell_type": "code",
   "execution_count": 1,
   "id": "88064a56",
   "metadata": {},
   "outputs": [],
   "source": [
    "import os\n",
    "import xarray as xr\n",
    "import rioxarray as rxr"
   ]
  },
  {
   "cell_type": "code",
   "execution_count": 2,
   "id": "df356d72",
   "metadata": {},
   "outputs": [],
   "source": [
    "main_dir = r'C:\\Users\\enhi\\OneDrive - gmv.com\\Documents\\Projects\\ANIN\\Generating Indices\\FAPAR anomaly\\\\'\n",
    "# Directory for monthly FAPAR ANomaly\n",
    "FAPAR_anomaly = os.path.join(main_dir, 'FAPAR Anomaly','RT1')\n",
    "# Directory for crop mask for each month\n",
    "Crop_mask = os.path.join(main_dir,'Crop_mask')"
   ]
  },
  {
   "cell_type": "code",
   "execution_count": 4,
   "id": "d169ce6f",
   "metadata": {},
   "outputs": [],
   "source": [
    "# Dictionary includes crop mask of each month\n",
    "# with the key as the name of the month\n",
    "Crop_mask_month ={}\n",
    "for image in os.listdir(Crop_mask):\n",
    "    path = os.path.join(Crop_mask, image)\n",
    "    crop_mask = rxr.open_rasterio(path, masked=True)\n",
    "    Crop_mask_month[image[:-4]]=crop_mask "
   ]
  },
  {
   "cell_type": "code",
   "execution_count": 6,
   "id": "e5f4a49b",
   "metadata": {},
   "outputs": [],
   "source": [
    "# Looping through each monthly FAPAR anomaly and mask values based on \n",
    "# monthly crop mask\n",
    "for image in os.listdir(FAPAR_anomaly):\n",
    "    # path for monthly FAPAR anomaly\n",
    "    path = os.path.join(FAPAR_anomaly, image)\n",
    "    # open monthly FAPAR anomaly\n",
    "    FAPAR_a = rxr.open_rasterio(path, masked=True)\n",
    "    # Call the corresponding monthly crop mask for the same month as FAPAR anomaly\n",
    "    # by taking the month from the name of monthly FAPAR anomaly\n",
    "    monthly_crop_mask = Crop_mask_month[image[:-22]]\n",
    "    # Return VCI values which only match the crop mask, and return -9999 if not\n",
    "    FAPAR_anomaly_mask = xr.where(monthly_crop_mask ==1, FAPAR_a[0], -9999)\n",
    "    # Convert -9999 values to NAN\n",
    "    FAPAR_anomaly_mask = FAPAR_anomaly_mask.where(FAPAR_anomaly_mask!=-9999)\n",
    "    # CRS\n",
    "    FAPAR_anomaly_mask= FAPAR_anomaly_mask.rio.write_crs(FAPAR_a.rio.crs)\n",
    "    # Export VCI after crop masking\n",
    "    FAPAR_anomaly_mask.rio.to_raster(main_dir + '\\\\' +'FAPAR Anomaly_crop_mask'+ '\\\\'+ 'RT1'+'\\\\'+image[:-4]+'_crop_mask.tif')\n",
    "    "
   ]
  },
  {
   "cell_type": "code",
   "execution_count": null,
   "id": "6cc65db1",
   "metadata": {},
   "outputs": [],
   "source": []
  }
 ],
 "metadata": {
  "kernelspec": {
   "display_name": "rasterio",
   "language": "python",
   "name": "rasterio"
  },
  "language_info": {
   "codemirror_mode": {
    "name": "ipython",
    "version": 3
   },
   "file_extension": ".py",
   "mimetype": "text/x-python",
   "name": "python",
   "nbconvert_exporter": "python",
   "pygments_lexer": "ipython3",
   "version": "3.11.0"
  }
 },
 "nbformat": 4,
 "nbformat_minor": 5
}
