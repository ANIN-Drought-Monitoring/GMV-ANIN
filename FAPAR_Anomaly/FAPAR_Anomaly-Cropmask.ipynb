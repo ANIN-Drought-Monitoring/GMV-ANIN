{
 "cells": [
  {
   "cell_type": "markdown",
   "id": "fba22678",
   "metadata": {},
   "source": [
    "# Libraries"
   ]
  },
  {
   "cell_type": "code",
   "execution_count": 1,
   "id": "88064a56",
   "metadata": {},
   "outputs": [],
   "source": [
    "import os\n",
    "import xarray as xr\n",
    "import rioxarray as rxr"
   ]
  },
  {
   "cell_type": "code",
   "execution_count": 2,
   "id": "df356d72",
   "metadata": {},
   "outputs": [],
   "source": [
    "# Set main directory using an environment variable or fallback to a relative path\n",
    "main_dir = os.getenv('PROJECT_DIR', os.path.join(os.getcwd(), 'data', 'ANIN', 'Generating Indices', 'FAPAR anomaly'))\n\n",
    "# Directory for monthly FAPAR anomaly data\n",
    "FAPAR_anomaly = os.path.join(main_dir, 'FAPAR Anomaly', 'RT1')\n",
    "# Directory for crop mask files for each month\n",
    "Crop_mask = os.path.join(main_dir, 'Crop_mask')"
   ]
  },
  {
   "cell_type": "code",
   "execution_count": 4,
   "id": "d169ce6f",
   "metadata": {},
   "outputs": [],
   "source": [
    "# Dictionary to store crop masks for each month\n",
    "Crop_mask_month = {}\n",
    "for image in os.listdir(Crop_mask):\n",
    "    path = os.path.join(Crop_mask, image)\n",
    "    crop_mask = rxr.open_rasterio(path, masked=True)\n",
    "    Crop_mask_month[image[:-4]] = crop_mask"
   ]
  },
  {
   "cell_type": "code",
   "execution_count": 6,
   "id": "e5f4a49b",
   "metadata": {},
   "outputs": [],
   "source": [
    "# Loop through each monthly FAPAR anomaly and apply crop mask\n",
    "for image in os.listdir(FAPAR_anomaly):\n",
    "    # Path for monthly FAPAR anomaly file\n",
    "    path = os.path.join(FAPAR_anomaly, image)\n",
    "    # Open monthly FAPAR anomaly file\n",
    "    FAPAR_a = rxr.open_rasterio(path, masked=True)\n",
    "    # Retrieve corresponding crop mask for the same month\n",
    "    monthly_crop_mask = Crop_mask_month[image[:-22]]\n\n",
    "    # Mask values based on the crop mask, setting non-matching areas to -9999\n",
    "    FAPAR_anomaly_mask = xr.where(monthly_crop_mask == 1, FAPAR_a[0], -9999)\n",
    "    # Convert -9999 values to NaN\n",
    "    FAPAR_anomaly_mask = FAPAR_anomaly_mask.where(FAPAR_anomaly_mask != -9999)\n",
    "    # Set CRS to match the original FAPAR anomaly\n",
    "    FAPAR_anomaly_mask = FAPAR_anomaly_mask.rio.write_crs(FAPAR_a.rio.crs)\n\n",
    "    # Export the masked FAPAR anomaly as a TIFF file\n",
    "    output_path = os.path.join(main_dir, 'FAPAR Anomaly_crop_mask', 'RT1', f'{image[:-4]}_crop_mask.tif')\n",
    "    FAPAR_anomaly_mask.rio.to_raster(output_path)"
   ]
  },
  {
   "cell_type": "code",
   "execution_count": null,
   "id": "6cc65db1",
   "metadata": {},
   "outputs": [],
   "source": []
  }
 ],
 "metadata": {
  "kernelspec": {
   "display_name": "rasterio",
   "language": "python",
   "name": "rasterio"
  },
  "language_info": {
   "codemirror_mode": {
    "name": "ipython",
    "version": 3
   },
   "file_extension": ".py",
   "mimetype": "text/x-python",
   "name": "python",
   "nbconvert_exporter": "python",
   "pygments_lexer": "ipython3",
   "version": "3.11.0"
  }
 },
 "nbformat": 4,
 "nbformat_minor": 5
}
