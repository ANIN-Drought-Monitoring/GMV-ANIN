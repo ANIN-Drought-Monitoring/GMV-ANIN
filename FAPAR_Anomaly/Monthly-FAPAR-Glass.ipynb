{
 "cells": [
  {
   "cell_type": "markdown",
   "metadata": {},
   "source": [
    "# Monthly FAPAR Composite Calculation\n",
    "\n",
    "This notebook calculates monthly FAPAR (Fraction of Absorbed Photosynthetically Active Radiation) composites by combining 8-day FAPAR data. The process includes loading and masking data, calculating weighted values based on date overlap, and saving monthly composites.\n"
   ]
  },
  {
   "cell_type": "code",
   "metadata": {},
   "source": [
    "import os\n",
    "import xarray as xr\n",
    "import rioxarray as rxr\n",
    "from shapely.geometry import mapping\n",
    "import geopandas as gpd\n",
    "from rasterio.enums import Resampling\n",
    "from datetime import datetime, timedelta\n",
    "from calendar import monthrange\n"
   ]
  },
  {
   "cell_type": "markdown",
   "metadata": {},
   "source": [
    "## Paths - Set These Paths Before Running"
   ]
  },
  {
   "cell_type": "code",
   "metadata": {},
   "source": [
    "# Main directory containing the project files\n",
    "main_dir = 'path_to_main_directory'\n",
    "# Directory containing 8-day FAPAR data clipped to the Area of Interest (AOI)\n",
    "fapar_glass_dir = os.path.join(main_dir, 'Clipped_FAPAR')\n",
    "# Example Copernicus FAPAR file for reference (shape and CRS)\n",
    "copernicus_example_path = os.path.join(main_dir, 'Copernicus_FAPAR_example.tif')\n",
    "# Directory containing the boundary shapefile for masking\n",
    "boundary_shapefile_dir = os.path.join(main_dir, 'Boundary')\n"
   ]
  },
  {
   "cell_type": "markdown",
   "metadata": {},
   "source": [
    "## Load and Mask Shapefile"
   ]
  },
  {
   "cell_type": "code",
   "metadata": {},
   "source": [
    "def load_shape_file(filepath):\n",
    "    \"\"\"Load a shapefile for creating a mask over the AOI.\"\"\"\n",
    "    shpfile = gpd.read_file(filepath)\n",
    "    print(\"Shapefile loaded.\")\n",
    "    return shpfile\n",
    "\n",
    "def select_shape(shpfile):\n",
    "    \"\"\"Create a union of selected shapes for masking.\"\"\"\n",
    "    col_code = 'ISO3_CODE'\n",
    "    country_codes = ['ZAF', 'LSO', 'SWZ']\n",
    "    selected_rows = shpfile[shpfile[col_code].isin(country_codes)]\n",
    "    mask_polygon = gpd.GeoDataFrame(geometry=[selected_rows.geometry.unary_union])\n",
    "    print(\"Mask created.\")\n",
    "    return mask_polygon\n",
    "\n",
    "# Load shapefile and create mask\n",
    "shapefile_path = os.path.join(boundary_shapefile_dir, 'boundary_shapefile.shp')\n",
    "shapefile = load_shape_file(shapefile_path)\n",
    "mask_polygon = select_shape(shapefile)\n",
    "\n",
    "# Load CRS from example file\n",
    "copernicus_ex = rxr.open_rasterio(copernicus_example_path, masked=True)\n",
    "mask_polygon.crs = copernicus_ex.rio.crs\n"
   ]
  },
  {
   "cell_type": "markdown",
   "metadata": {},
   "source": [
    "## Calculate Weights Based on Overlapping Days"
   ]
  },
  {
   "cell_type": "code",
   "metadata": {},
   "source": [
    "def weights_start(start_date):\n",
    "    \"\"\"Calculate weight for an 8-day FAPAR period starting in a given month.\"\"\"\n",
    "    num_days = monthrange(start_date.year, start_date.month)[1]\n",
    "    day_of_month = start_date.day\n",
    "    diff = (num_days + 1) - day_of_month\n",
    "    day_obs = min(diff, 8)\n",
    "    return day_obs / num_days\n",
    "\n",
    "def weights_end(end_date):\n",
    "    \"\"\"Calculate weight for an 8-day FAPAR period ending in a given month.\"\"\"\n",
    "    num_days = monthrange(end_date.year, end_date.month)[1]\n",
    "    return end_date.day / num_days\n"
   ]
  },
  {
   "cell_type": "markdown",
   "metadata": {},
   "source": [
    "## Process FAPAR Data for Each Month and Year"
   ]
  },
  {
   "cell_type": "code",
   "metadata": {},
   "source": [
    "def calculate_monthly_composites():\n",
    "    \"\"\"Calculate monthly FAPAR composites from 8-day FAPAR data over multiple years.\"\"\"\n",
    "    months = ['Jan', 'Feb', 'March', 'April', 'May', 'June', 'July', 'Aug', 'Sep', 'Oct', 'Nov', 'Dec']\n",
    "    years = sorted(os.listdir(fapar_glass_dir))\n",
    "    count = 0\n",
    "\n",
    "    for month in range(1, 13):\n",
    "        for year in years:\n",
    "            month_data = []\n",
    "            for image_file in os.listdir(os.path.join(fapar_glass_dir, year)):\n",
    "                y = image_file[16:20]\n",
    "                doy = image_file[20:23].rjust(3, '0')\n",
    "                start_date = datetime.strptime(f\"{y}-{doy}\", \"%Y-%j\")\n",
    "                end_date = start_date + timedelta(days=8)\n",
    "\n",
    "                if start_date.month == month:\n",
    "                    weight = weights_start(start_date)\n",
    "                elif end_date.month == month and end_date.day <= 7:\n",
    "                    if month == 1 or end_date.month == 1:\n",
    "                        continue\n",
    "                    weight = weights_end(end_date)\n",
    "                else:\n",
    "                    continue\n",
    "\n",
    "                image_path = os.path.join(fapar_glass_dir, year, image_file)\n",
    "                fapar = rxr.open_rasterio(image_path, masked=True)\n",
    "                fapar *= fapar.attrs.get('scale_factor', 1)  # Apply scale factor if present\n",
    "                month_data.append(weight * fapar)\n",
    "\n",
    "            if month_data:\n",
    "                monthly_composite = sum(month_data).rio.reproject_match(copernicus_ex, resampling=Resampling.nearest)\n",
    "                monthly_composite_path = os.path.join(main_dir, 'Monthly_FAPAR_Composites', f\"{year}_{months[count]}.tif\")\n",
    "                monthly_composite.rio.to_raster(monthly_composite_path)\n",
    "\n",
    "        count += 1\n",
    "\n",
    "# Run the function to process FAPAR data\n",
    "calculate_monthly_composites()\n"
   ]
  }
 ],
 "metadata": {
  "kernelspec": {
   "display_name": "Python 3",
   "language": "python",
   "name": "python3"
  },
  "language_info": {
   "codemirror_mode": {
    "name": "ipython",
    "version": 3
   },
   "file_extension": ".py",
   "mimetype": "text/x-python",
   "name": "python",
   "nbconvert_exporter": "python",
   "pygments_lexer": "ipython3",
   "version": "3.8.8"
  }
 },
 "nbformat": 4,
 "nbformat_minor": 4
}
