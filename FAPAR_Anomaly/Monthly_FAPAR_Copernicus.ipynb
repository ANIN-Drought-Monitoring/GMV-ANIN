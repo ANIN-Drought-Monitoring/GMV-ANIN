{
 "cells": [
  {
   "cell_type": "markdown",
   "id": "faacd76e",
   "metadata": {},
   "source": [
    "# Libraries"
   ]
  },
  {
   "cell_type": "code",
   "execution_count": null,
   "id": "17710673",
   "metadata": {},
   "outputs": [],
   "source": [
    "import os\n",
    "import xarray as xr\n",
    "import rioxarray as rxr\n",
    "from shapely.geometry import mapping\n",
    "import geopandas as gpd\n",
    "from rasterio.enums import Resampling\n",
    "from datetime import datetime\n",
    "from calendar import monthrange"
   ]
  },
  {
   "cell_type": "code",
   "execution_count": null,
   "id": "ae88bf49",
   "metadata": {},
   "outputs": [],
   "source": [
    "# Set main directories for FAPAR data\n",
    "main_dir = 'path_to_main_directory'\n",
    "# Subdirectories for Copernicus data and boundary shape\n",
    "tenDays_RT2 = os.path.join(main_dir, 'Copernicus', '10Days_RT2')\n",
    "Boundary = os.path.join(main_dir, 'Boundary')\n",
    "Output_dir = os.path.join(main_dir, 'Copernicus', 'Monthly_RT2')"
   ]
  },
  {
   "cell_type": "code",
   "execution_count": null,
   "id": "541cf9a4",
   "metadata": {},
   "outputs": [],
   "source": [
    "# Load and prepare shapefile\n",
    "def load_shape_file(filepath):\n",
    "    \"\"\"Load shapefile to create a mask over the AOI.\"\"\"\n",
    "    shpfile = gpd.read_file(filepath)\n",
    "    print(\"Shapefile loaded. To prepare for masking, run the function `select_shape`.\")\n",
    "    return shpfile\n",
    "\n",
    "# Create mask from shapefile\n",
    "def select_shape(shpfile):\n",
    "    col_code = 'ISO3_CODE'\n",
    "    country_codes = ['ZAF', 'LSO', 'SWZ']\n",
    "    selected_rows = shpfile[shpfile[col_code].isin(country_codes)]\n",
    "    unioned_polygon = selected_rows.geometry.unary_union\n",
    "    mask_polygon = gpd.GeoDataFrame(geometry=[unioned_polygon])\n",
    "    print(\"Mask created.\")\n",
    "    return mask_polygon\n",
    "\n",
    "# Generate AOI\n",
    "shpfile = load_shape_file(os.path.join(Boundary, 'boundary_shapefile.shp'))\n",
    "AOI = select_shape(shpfile)"
   ]
  },
  {
   "cell_type": "code",
   "execution_count": null,
   "id": "ee0d3141",
   "metadata": {},
   "outputs": [],
   "source": [
    "# Processing FAPAR data by year and month\n",
    "Copernicus_years = sorted(os.listdir(tenDays_RT2))\n",
    "years_copernicus = {}\n",
    "for year in Copernicus_years:\n",
    "    months_copernicus = {}\n",
    "    for month in sorted(os.listdir(os.path.join(tenDays_RT2, year))):\n",
    "        FAPAR_10Days = sorted(os.listdir(os.path.join(tenDays_RT2, year, month)))\n",
    "        path = os.path.join(tenDays_RT2, year, month)\n",
    "        first_10Days = rxr.open_rasterio(os.path.join(path, FAPAR_10Days[0]), masked=True)\n",
    "        second_10Days = rxr.open_rasterio(os.path.join(path, FAPAR_10Days[1]), masked=True)\n",
    "        third_10Days = rxr.open_rasterio(os.path.join(path, FAPAR_10Days[2]), masked=True)\n",
    "\n",
    "        Scale_factor = first_10Days.attrs['scale_factor']\n",
    "        Number_of_Month = datetime.strptime(month, '%B').month\n",
    "        nMonth_days = monthrange(int(year), Number_of_Month)[1]\n",
    "\n",
    "        first_real_w = (first_10Days * Scale_factor) * (10 / nMonth_days)\n",
    "        second_real_w = (second_10Days * Scale_factor) * (10 / nMonth_days)\n",
    "        third_real_w = (third_10Days * Scale_factor) * ((nMonth_days + 1 - 21) / nMonth_days)\n",
    "        concat = xr.concat([first_real_w, second_real_w, third_real_w], dim='band')\n",
    "        Monthly_average = concat.sum(dim='band')\n",
    "        Copernicus_crs = first_10Days.rio.crs\n",
    "        Monthly_average.rio.write_crs(Copernicus_crs, inplace=True)\n",
    "\n",
    "        Monthly_average_AOI = Monthly_average.rio.clip(AOI.geometry.apply(mapping),\n",
    "                                   crs=Copernicus_crs, all_touched=True, from_disk=True).squeeze()\n",
    "\n",
    "        months_copernicus[month] = Monthly_average_AOI\n",
    "        check_folder_Output_dir = os.path.isdir(Output_dir)\n",
    "        if not check_folder_Output_dir:\n",
    "            os.makedirs(Output_dir)\n",
    "\n",
    "        years_cop = os.path.join(Output_dir, year)\n",
    "        check_folder_years_cop = os.path.isdir(years_cop)\n",
    "        if not check_folder_years_cop:\n",
    "            os.makedirs(years_cop)\n",
    "\n",
    "        Monthly_average_AOI.rio.to_raster(os.path.join(years_cop, f'{year}_{month}.tif'))\n",
    "\n",
    "    years_copernicus[year] = months_copernicus\n",
    "\n",
    "print('Dictionaries of FAPAR data of all months per year are created.')"
   ]
  }
 ],
 "metadata": {
  "kernelspec": {
   "display_name": "Python 3",
   "language": "python",
   "name": "python3"
  },
  "language_info": {
   "codemirror_mode": {
    "name": "ipython",
    "version": 3
   },
   "file_extension": ".py",
   "mimetype": "text/x-python",
   "name": "python",
   "nbconvert_exporter": "python",
   "pygments_lexer": "ipython3",
   "version": "3.8.8"
  }
 },
 "nbformat": 4,
 "nbformat_minor": 5
}
