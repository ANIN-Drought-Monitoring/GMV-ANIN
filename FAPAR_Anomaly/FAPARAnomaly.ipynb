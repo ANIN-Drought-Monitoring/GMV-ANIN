{
 "cells": [
  {
   "cell_type": "markdown",
   "id": "93a91be5",
   "metadata": {},
   "source": [
    "# Libraries"
   ]
  },
  {
   "cell_type": "code",
   "execution_count": null,
   "id": "c1c801b5",
   "metadata": {},
   "outputs": [],
   "source": [
    "import os\n",
    "import warnings\n",
    "import xarray as xr\n",
    "import rioxarray as rxr\n",
    "from shapely.geometry import mapping\n",
    "import geopandas as gpd\n",
    "from rasterio.enums import Resampling\n",
    "from datetime import datetime, timedelta\n",
    "from calendar import monthrange\n",
    "\n",
    "# Suppress PyGEOS warning for compatibility with Shapely 2.0\n",
    "os.environ['USE_PYGEOS'] = '0'\n",
    "warnings.filterwarnings('ignore', category=UserWarning, module='geopandas')"
   ]
  },
  {
   "cell_type": "code",
   "execution_count": null,
   "id": "c77bafd5",
   "metadata": {},
   "outputs": [],
   "source": [
    "# Set the main directory using an environment variable or fallback to a relative path\n",
    "main_dir = os.getenv('PROJECT_DIR', os.path.join(os.getcwd(), 'data', 'ANIN', 'Generating Indices', 'FAPAR anomaly'))\n",
    "\n",
    "# Directory for real-time data\n",
    "Monthly_Copernicus_RT1 = os.path.join(main_dir, 'Copernicus', 'Monthly_RT1')\n",
    "\n",
    "# Directories for historical mean/standard deviation data\n",
    "Mean = os.path.join(main_dir, 'Mean')\n",
    "STD = os.path.join(main_dir, 'std')"
   ]
  },
  {
   "cell_type": "code",
   "execution_count": null,
   "id": "6aa74b5a",
   "metadata": {},
   "outputs": [],
   "source": [
    "# List of years folders for monthly data\n",
    "Copernicus_years = sorted(os.listdir(Monthly_Copernicus_RT1))\n",
    "# Dictionary includes sub-dictionaries for monthly data in each year\n",
    "years_copernicus = {}\n",
    "\n",
    "# Nested loop through each year and month within\n",
    "for year in Copernicus_years:\n",
    "    months_copernicus = {}\n",
    "    for month in sorted(os.listdir(os.path.join(Monthly_Copernicus_RT1, year))):\n",
    "        path = os.path.join(Monthly_Copernicus_RT1, year, month)\n",
    "        image = rxr.open_rasterio(path, masked=True)\n",
    "        months_copernicus[month[4:-4]] = image\n",
    "    years_copernicus[year] = months_copernicus"
   ]
  },
  {
   "cell_type": "code",
   "execution_count": null,
   "id": "a0a2a9a0",
   "metadata": {},
   "outputs": [],
   "source": [
    "# Dictionaries of mean and std FAPAR\n",
    "FAPAR_mean = {}\n",
    "FAPAR_std = {}\n",
    "\n",
    "# Lists of mean and std FAPAR\n",
    "Mean_FAPAR = sorted(os.listdir(Mean))\n",
    "STD_FAPAR = sorted(os.listdir(STD))\n",
    "\n",
    "# Loop through each monthly mean FAPAR\n",
    "for month in Mean_FAPAR:\n",
    "    path = os.path.join(Mean, month)\n",
    "    image = rxr.open_rasterio(path, masked=True)\n",
    "    FAPAR_mean[month[:-9]] = image\n",
    "\n",
    "# Loop through each monthly std FAPAR\n",
    "for month in STD_FAPAR:\n",
    "    path = os.path.join(STD, month)\n",
    "    image = rxr.open_rasterio(path, masked=True)\n",
    "    FAPAR_std[month[:-8]] = image"
   ]
  },
  {
   "cell_type": "code",
   "execution_count": null,
   "id": "175f7c49",
   "metadata": {},
   "outputs": [],
   "source": [
    "for year in years_copernicus:\n",
    "    for month in years_copernicus[year]:\n",
    "        Monthly_FAPAR = years_copernicus[year][month]\n",
    "        mean_FAPAR = FAPAR_mean[month]\n",
    "        std_FAPAR = FAPAR_std[month]\n",
    "        # Calculate FAPAR Anomaly\n",
    "        FAPAR_Anomaly = (Monthly_FAPAR - mean_FAPAR) / std_FAPAR\n",
    "\n",
    "        # Export FAPAR Anomaly as a TIFF file\n",
    "        output_path = os.path.join(main_dir, 'FAPAR Anomaly', 'RT1', f'{month}{year}_FAPAR_Anomaly.tif')\n",
    "        FAPAR_Anomaly.rio.to_raster(output_path)\n",
    "print('FAPAR Anomaly files are created')"
   ]
  }
 ],
 "metadata": {
  "kernelspec": {
   "display_name": "rasterio",
   "language": "python",
   "name": "rasterio"
  },
  "language_info": {
   "codemirror_mode": {
    "name": "ipython",
    "version": 3
   },
   "file_extension": ".py",
   "mimetype": "text/x-python",
   "name": "python",
   "nbconvert_exporter": "python",
   "pygments_lexer": "ipython3",
   "version": "3.11.0"
  }
 },
 "nbformat": 4,
 "nbformat_minor": 5
}
