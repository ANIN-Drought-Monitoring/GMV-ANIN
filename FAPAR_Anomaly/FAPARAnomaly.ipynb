{
 "cells": [
  {
   "cell_type": "markdown",
   "id": "93a91be5",
   "metadata": {},
   "source": [
    "# Libraries"
   ]
  },
  {
   "cell_type": "code",
   "execution_count": 1,
   "id": "c1c801b5",
   "metadata": {},
   "outputs": [
    {
     "name": "stderr",
     "output_type": "stream",
     "text": [
      "C:\\Users\\enhi\\AppData\\Local\\Temp\\ipykernel_13920\\3827688388.py:5: UserWarning: Shapely 2.0 is installed, but because PyGEOS is also installed, GeoPandas will still use PyGEOS by default for now. To force to use and test Shapely 2.0, you have to set the environment variable USE_PYGEOS=0. You can do this before starting the Python process, or in your code before importing geopandas:\n",
      "\n",
      "import os\n",
      "os.environ['USE_PYGEOS'] = '0'\n",
      "import geopandas\n",
      "\n",
      "In a future release, GeoPandas will switch to using Shapely by default. If you are using PyGEOS directly (calling PyGEOS functions on geometries from GeoPandas), this will then stop working and you are encouraged to migrate from PyGEOS to Shapely 2.0 (https://shapely.readthedocs.io/en/latest/migration_pygeos.html).\n",
      "  import geopandas as gpd\n"
     ]
    }
   ],
   "source": [
    "import os\n",
    "import xarray as xr\n",
    "import rioxarray as rxr\n",
    "from shapely.geometry import mapping\n",
    "import geopandas as gpd\n",
    "from rasterio.enums import Resampling\n",
    "from datetime import datetime, timedelta\n",
    "from calendar import monthrange"
   ]
  },
  {
   "cell_type": "code",
   "execution_count": 8,
   "id": "c77bafd5",
   "metadata": {},
   "outputs": [],
   "source": [
    "main_dir = r'C:\\Users\\enhi\\OneDrive - gmv.com\\Documents\\Projects\\ANIN\\Generating Indices\\FAPAR anomaly\\\\'\n",
    "# Directory of real time data\n",
    "Monthly_Copernicus_RT1 = os.path.join(main_dir, 'Copernicus', 'Monthly_RT1')\n",
    "# Directories for historical mean/standard deviation data\n",
    "Mean =os.path.join(main_dir, 'Mean')\n",
    "STD =os.path.join(main_dir, 'std')"
   ]
  },
  {
   "cell_type": "code",
   "execution_count": 9,
   "id": "6aa74b5a",
   "metadata": {},
   "outputs": [],
   "source": [
    "# List of years folders for monthly data\n",
    "Copernicus_years = sorted(os.listdir(Monthly_Copernicus_RT1))\n",
    "# Dictionary includes sub dictionaries for monthly data in each year\n",
    "# The key of the main dictionary is the year and the key of the sub \n",
    "# dictionary is the month\n",
    "years_copernicus = {}\n",
    "# Nested loop through each year and months in it\n",
    "for year in Copernicus_years:\n",
    "    months_copernicus={}\n",
    "    for month in sorted(os.listdir(Monthly_Copernicus_RT1+ '\\\\' + year)):\n",
    "        path = os.path.join(Monthly_Copernicus_RT1, year, month)\n",
    "        image = rxr.open_rasterio(path, masked = True)\n",
    "        months_copernicus[month[4:-4]]=image\n",
    "    years_copernicus[year] = months_copernicus"
   ]
  },
  {
   "cell_type": "code",
   "execution_count": 10,
   "id": "a0a2a9a0",
   "metadata": {},
   "outputs": [],
   "source": [
    "# Dictionaries of mean and std FAPAR\n",
    "# the key is the month\n",
    "FAPAR_mean= {}\n",
    "FAPAR_std= {}\n",
    "# Lists of mean and std FAPAR\n",
    "Mean_FAPAR = sorted(os.listdir(Mean))\n",
    "STD_FAPAR = sorted(os.listdir(STD))\n",
    "# looping through each monthly mean FAPAR\n",
    "for month in Mean_FAPAR:\n",
    "    # path of the monthly mean FAPAR\n",
    "    path = os.path.join(Mean, month)\n",
    "    image = rxr.open_rasterio(path, masked = True)\n",
    "    # Add the monthly mean FAPAR to the dictionary with the key of the month\n",
    "    FAPAR_mean[month[:-9]]=image\n",
    "# looping through each monthly std FAPAR\n",
    "for month in STD_FAPAR:\n",
    "    # path of the monthly std FAPAR\n",
    "    path = os.path.join(STD, month)\n",
    "    image = rxr.open_rasterio(path, masked = True)\n",
    "    # Add the monthly std FAPAR to the dictionary with the key of the month\n",
    "    FAPAR_std[month[:-8]]=image  "
   ]
  },
  {
   "cell_type": "code",
   "execution_count": 11,
   "id": "175f7c49",
   "metadata": {},
   "outputs": [
    {
     "name": "stdout",
     "output_type": "stream",
     "text": [
      "FAPAR Anomaly files are created\n"
     ]
    }
   ],
   "source": [
    "for year in years_copernicus:\n",
    "    #loop through each month in the year\n",
    "    for month in years_copernicus[year]:\n",
    "        #Assign the monthly FAPAR data which matchs the year and month\n",
    "        Monthly_FAPAR = years_copernicus[year][month]\n",
    "        #Taking the mean FAPAR which matches the month \n",
    "        mean_FAPAR = FAPAR_mean[month]\n",
    "        #Taking the std FAPAR which matches the month\n",
    "        std_FAPAR = FAPAR_std[month]\n",
    "        #Calculation of FAPAR Anomaly\n",
    "        FAPAR_Anomaly = (Monthly_FAPAR - mean_FAPAR)/(std_FAPAR)\n",
    "        #Export the FAPAR Anomaly as tiff file\n",
    "        FAPAR_Anomaly.rio.to_raster(main_dir + '\\\\' +'FAPAR Anomaly'+ '\\\\'+'RT1' +'\\\\'+ month+ year+ '_FAPAR_Anomaly'+'.tif')\n",
    "print('FAPAR Anomaly files are created')"
   ]
  }
 ],
 "metadata": {
  "kernelspec": {
   "display_name": "rasterio",
   "language": "python",
   "name": "rasterio"
  },
  "language_info": {
   "codemirror_mode": {
    "name": "ipython",
    "version": 3
   },
   "file_extension": ".py",
   "mimetype": "text/x-python",
   "name": "python",
   "nbconvert_exporter": "python",
   "pygments_lexer": "ipython3",
   "version": "3.11.0"
  }
 },
 "nbformat": 4,
 "nbformat_minor": 5
}
