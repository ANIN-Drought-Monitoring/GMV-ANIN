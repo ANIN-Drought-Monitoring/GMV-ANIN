{
 "cells": [
  {
   "cell_type": "code",
   "execution_count": 1,
   "metadata": {},
   "outputs": [],
   "source": [
    "import pandas as pd\n",
    "import os\n",
    "import glob"
   ]
  },
  {
   "cell_type": "code",
   "execution_count": 2,
   "metadata": {},
   "outputs": [
    {
     "data": {
      "text/plain": [
       "551"
      ]
     },
     "execution_count": 2,
     "metadata": {},
     "output_type": "execute_result"
    }
   ],
   "source": [
    "active_stations = \"//gmvstorage.gmv.es/storage/anin/Streamflow/All stations_v2.CSV\"\n",
    "\n",
    "df = pd.read_csv(active_stations, header=None, skiprows=1, usecols=[0])\n",
    "df_full = pd.read_csv(active_stations, header=None, skiprows=1)\n",
    "ststions_list = df[0].tolist()\n",
    "len(ststions_list)"
   ]
  },
  {
   "cell_type": "code",
   "execution_count": 3,
   "metadata": {},
   "outputs": [],
   "source": [
    "available_stations = glob.glob('//gmvstorage.gmv.es/storage/anin/Streamflow/All_streamflow_data/*csv')\n",
    "# available_stations = [name.replace('_140', '') if '_140' in name else name for name in available_stations]\n",
    "available_stations = [os.path.splitext(os.path.basename(file))[0].replace('_140', '') for file in available_stations]"
   ]
  },
  {
   "cell_type": "code",
   "execution_count": 4,
   "metadata": {},
   "outputs": [
    {
     "data": {
      "text/plain": [
       "64"
      ]
     },
     "execution_count": 4,
     "metadata": {},
     "output_type": "execute_result"
    }
   ],
   "source": [
    "Nmissing = len(ststions_list)-len(available_stations)\n",
    "Nmissing"
   ]
  },
  {
   "cell_type": "code",
   "execution_count": 5,
   "metadata": {},
   "outputs": [
    {
     "data": {
      "text/plain": [
       "64"
      ]
     },
     "execution_count": 5,
     "metadata": {},
     "output_type": "execute_result"
    }
   ],
   "source": [
    "missing_names = [name for name in ststions_list if name not in available_stations]\n",
    "len(missing_names)"
   ]
  },
  {
   "cell_type": "code",
   "execution_count": 6,
   "metadata": {},
   "outputs": [],
   "source": [
    "filename = \"missing_stations.csv\"  # Name of the output .csv file\n",
    "\n",
    "df_2 = pd.DataFrame({'Missing Stations': missing_names})\n",
    "df_2.to_csv(filename, index=False)"
   ]
  },
  {
   "cell_type": "code",
   "execution_count": 8,
   "metadata": {},
   "outputs": [
    {
     "data": {
      "text/plain": [
       "0"
      ]
     },
     "execution_count": 8,
     "metadata": {},
     "output_type": "execute_result"
    }
   ],
   "source": [
    "column_names = df.columns\n",
    "column_names[0]\n"
   ]
  },
  {
   "cell_type": "code",
   "execution_count": 11,
   "metadata": {},
   "outputs": [
    {
     "data": {
      "text/html": [
       "<div>\n",
       "<style scoped>\n",
       "    .dataframe tbody tr th:only-of-type {\n",
       "        vertical-align: middle;\n",
       "    }\n",
       "\n",
       "    .dataframe tbody tr th {\n",
       "        vertical-align: top;\n",
       "    }\n",
       "\n",
       "    .dataframe thead th {\n",
       "        text-align: right;\n",
       "    }\n",
       "</style>\n",
       "<table border=\"1\" class=\"dataframe\">\n",
       "  <thead>\n",
       "    <tr style=\"text-align: right;\">\n",
       "      <th></th>\n",
       "      <th>0</th>\n",
       "      <th>1</th>\n",
       "      <th>2</th>\n",
       "      <th>3</th>\n",
       "      <th>4</th>\n",
       "      <th>5</th>\n",
       "      <th>6</th>\n",
       "      <th>7</th>\n",
       "      <th>8</th>\n",
       "    </tr>\n",
       "  </thead>\n",
       "  <tbody>\n",
       "    <tr>\n",
       "      <th>32</th>\n",
       "      <td>A2H090Q</td>\n",
       "      <td>Hennops River @ Van Riebeeck Nat Res</td>\n",
       "      <td>Hennops @ Van Riebee</td>\n",
       "      <td>-25.885556</td>\n",
       "      <td>28.302778</td>\n",
       "      <td>2010/03/10</td>\n",
       "      <td>9</td>\n",
       "      <td>G</td>\n",
       "      <td>1.0</td>\n",
       "    </tr>\n",
       "    <tr>\n",
       "      <th>53</th>\n",
       "      <td>A9H000</td>\n",
       "      <td>Limpopo @ Pafuri</td>\n",
       "      <td>Pafuri</td>\n",
       "      <td>-22.425820</td>\n",
       "      <td>31.308330</td>\n",
       "      <td>2016/01/01</td>\n",
       "      <td>10</td>\n",
       "      <td>LP</td>\n",
       "      <td>1.0</td>\n",
       "    </tr>\n",
       "    <tr>\n",
       "      <th>64</th>\n",
       "      <td>B1H002</td>\n",
       "      <td>Spookspruit @ Elandspruit</td>\n",
       "      <td>Spooksp @ Elandspru</td>\n",
       "      <td>-25.819000</td>\n",
       "      <td>29.337750</td>\n",
       "      <td>1956/10/09</td>\n",
       "      <td>5</td>\n",
       "      <td>M</td>\n",
       "      <td>2.0</td>\n",
       "    </tr>\n",
       "    <tr>\n",
       "      <th>65</th>\n",
       "      <td>B1H004</td>\n",
       "      <td>Klipspruit @ Zaaihoek</td>\n",
       "      <td>Klipsp @ Zaaihoek</td>\n",
       "      <td>-25.673639</td>\n",
       "      <td>29.173222</td>\n",
       "      <td>1959/02/08</td>\n",
       "      <td>5</td>\n",
       "      <td>M</td>\n",
       "      <td>2.0</td>\n",
       "    </tr>\n",
       "    <tr>\n",
       "      <th>66</th>\n",
       "      <td>B1H005</td>\n",
       "      <td>Olifants River @ Wolwekrans</td>\n",
       "      <td>Olifants @ Wolwekran</td>\n",
       "      <td>-26.006556</td>\n",
       "      <td>29.254028</td>\n",
       "      <td>1972/07/13</td>\n",
       "      <td>5</td>\n",
       "      <td>M</td>\n",
       "      <td>2.0</td>\n",
       "    </tr>\n",
       "    <tr>\n",
       "      <th>...</th>\n",
       "      <td>...</td>\n",
       "      <td>...</td>\n",
       "      <td>...</td>\n",
       "      <td>...</td>\n",
       "      <td>...</td>\n",
       "      <td>...</td>\n",
       "      <td>...</td>\n",
       "      <td>...</td>\n",
       "      <td>...</td>\n",
       "    </tr>\n",
       "    <tr>\n",
       "      <th>354</th>\n",
       "      <td>NN14</td>\n",
       "      <td>Siyaya Lagoon</td>\n",
       "      <td>Mtunzini</td>\n",
       "      <td>-28.969600</td>\n",
       "      <td>31.755058</td>\n",
       "      <td>2002/04/24</td>\n",
       "      <td>3</td>\n",
       "      <td>KN</td>\n",
       "      <td>4.0</td>\n",
       "    </tr>\n",
       "    <tr>\n",
       "      <th>422</th>\n",
       "      <td>U1H010</td>\n",
       "      <td>IXOPO RIVER @ LYNFORD</td>\n",
       "      <td>IXOPO RIVER</td>\n",
       "      <td>-30.131111</td>\n",
       "      <td>30.051750</td>\n",
       "      <td>2017/02/16</td>\n",
       "      <td>3</td>\n",
       "      <td>KN</td>\n",
       "      <td>NaN</td>\n",
       "    </tr>\n",
       "    <tr>\n",
       "      <th>514</th>\n",
       "      <td>X1H046</td>\n",
       "      <td>Komati River @ Mananga</td>\n",
       "      <td>Komati @ Mananga</td>\n",
       "      <td>-25.945289</td>\n",
       "      <td>31.748694</td>\n",
       "      <td>1997/10/01</td>\n",
       "      <td>0</td>\n",
       "      <td>S</td>\n",
       "      <td>11.0</td>\n",
       "    </tr>\n",
       "    <tr>\n",
       "      <th>519</th>\n",
       "      <td>X1H054</td>\n",
       "      <td>Komati River @ Komatipoort</td>\n",
       "      <td>Kobwa</td>\n",
       "      <td>-25.446667</td>\n",
       "      <td>31.955722</td>\n",
       "      <td>2006/07/19</td>\n",
       "      <td>5</td>\n",
       "      <td>M</td>\n",
       "      <td>3.0</td>\n",
       "    </tr>\n",
       "    <tr>\n",
       "      <th>541</th>\n",
       "      <td>X3H000</td>\n",
       "      <td>Sabie @ Mozambique</td>\n",
       "      <td>Mozambique</td>\n",
       "      <td>-26.000000</td>\n",
       "      <td>32.000000</td>\n",
       "      <td>2016/01/01</td>\n",
       "      <td>10</td>\n",
       "      <td>M</td>\n",
       "      <td>11.0</td>\n",
       "    </tr>\n",
       "  </tbody>\n",
       "</table>\n",
       "<p>64 rows × 9 columns</p>\n",
       "</div>"
      ],
      "text/plain": [
       "           0                                     1                     2  \\\n",
       "32   A2H090Q  Hennops River @ Van Riebeeck Nat Res  Hennops @ Van Riebee   \n",
       "53    A9H000                      Limpopo @ Pafuri                Pafuri   \n",
       "64    B1H002             Spookspruit @ Elandspruit   Spooksp @ Elandspru   \n",
       "65    B1H004                 Klipspruit @ Zaaihoek     Klipsp @ Zaaihoek   \n",
       "66    B1H005           Olifants River @ Wolwekrans  Olifants @ Wolwekran   \n",
       "..       ...                                   ...                   ...   \n",
       "354     NN14                         Siyaya Lagoon              Mtunzini   \n",
       "422   U1H010                 IXOPO RIVER @ LYNFORD           IXOPO RIVER   \n",
       "514   X1H046                Komati River @ Mananga      Komati @ Mananga   \n",
       "519   X1H054            Komati River @ Komatipoort                 Kobwa   \n",
       "541   X3H000                    Sabie @ Mozambique            Mozambique   \n",
       "\n",
       "             3          4           5   6   7     8  \n",
       "32  -25.885556  28.302778  2010/03/10   9   G   1.0  \n",
       "53  -22.425820  31.308330  2016/01/01  10  LP   1.0  \n",
       "64  -25.819000  29.337750  1956/10/09   5   M   2.0  \n",
       "65  -25.673639  29.173222  1959/02/08   5   M   2.0  \n",
       "66  -26.006556  29.254028  1972/07/13   5   M   2.0  \n",
       "..         ...        ...         ...  ..  ..   ...  \n",
       "354 -28.969600  31.755058  2002/04/24   3  KN   4.0  \n",
       "422 -30.131111  30.051750  2017/02/16   3  KN   NaN  \n",
       "514 -25.945289  31.748694  1997/10/01   0   S  11.0  \n",
       "519 -25.446667  31.955722  2006/07/19   5   M   3.0  \n",
       "541 -26.000000  32.000000  2016/01/01  10   M  11.0  \n",
       "\n",
       "[64 rows x 9 columns]"
      ]
     },
     "execution_count": 11,
     "metadata": {},
     "output_type": "execute_result"
    }
   ],
   "source": [
    "# Select rows corresponding to missing_names\n",
    "selected_rows = df_full[df_full[column_names[0]].isin(missing_names)]\n",
    "selected_rows\n"
   ]
  },
  {
   "cell_type": "code",
   "execution_count": null,
   "metadata": {},
   "outputs": [],
   "source": [
    "filename = 'selected_rows.xlsx'  # Name of the output Excel file\n",
    "\n",
    "selected_rows.to_excel(filename, index=False)"
   ]
  }
 ],
 "metadata": {
  "kernelspec": {
   "display_name": "geoData",
   "language": "python",
   "name": "geodata"
  },
  "language_info": {
   "codemirror_mode": {
    "name": "ipython",
    "version": 3
   },
   "file_extension": ".py",
   "mimetype": "text/x-python",
   "name": "python",
   "nbconvert_exporter": "python",
   "pygments_lexer": "ipython3",
   "version": "3.10.8"
  },
  "orig_nbformat": 4
 },
 "nbformat": 4,
 "nbformat_minor": 2
}
