{
 "cells": [
  {
   "cell_type": "code",
   "execution_count": 1,
   "id": "508d1edb",
   "metadata": {},
   "outputs": [],
   "source": [
    "import pandas as pd\n",
    "from datetime import datetime\n",
    "import numpy as np\n",
    "import matplotlib.pyplot as plt\n",
    "import folium\n",
    "import seaborn as sns"
   ]
  },
  {
   "cell_type": "code",
   "execution_count": 2,
   "id": "152bfc00",
   "metadata": {},
   "outputs": [],
   "source": [
    "# Load Excel file\n",
    "file_path = \"insert path to stations data\"\n",
    "df = pd.read_excel(file_path)"
   ]
  },
  {
   "cell_type": "code",
   "execution_count": 3,
   "id": "504f9fb8",
   "metadata": {},
   "outputs": [],
   "source": [
    "column_names = df.keys()\n",
    "df = df.set_index('Station')"
   ]
  },
  {
   "cell_type": "code",
   "execution_count": 4,
   "id": "e57bcb6d",
   "metadata": {},
   "outputs": [],
   "source": [
    "labels = ['Shortname','Equipment']\n",
    "df.drop(labels, axis=1, inplace = True)"
   ]
  },
  {
   "cell_type": "code",
   "execution_count": null,
   "id": "403da6aa",
   "metadata": {},
   "outputs": [],
   "source": [
    "df_metadata = df.iloc[:, :8]\n",
    "df_data = df.iloc[:, 8:]\n",
    "df_metadata['Startdate'] = pd.to_datetime(df['Startdate'], format='%Y%m%d')\n",
    "df_metadata['Enddate'] = pd.to_datetime(df['Enddate'], format='%Y%m%d')\n",
    "\n",
    "df_metadata['lenObs_months'] = df_metadata.Enddate.dt.to_period('M').view(dtype='int64') - df_metadata.Startdate.dt.to_period('M').view(dtype='int64')\n",
    "df_metadata['lenObs_yr'] =round(df_metadata.lenObs_months/12)\n",
    "df_metadata"
   ]
  },
  {
   "cell_type": "code",
   "execution_count": null,
   "id": "71f66a55",
   "metadata": {},
   "outputs": [],
   "source": [
    "# Create a figure with two subplots\n",
    "fig, axs = plt.subplots(nrows=1, ncols=2, figsize=(10, 5))\n",
    "\n",
    "# Create a histogram of the \"lenObs\" values\n",
    "axs[0].hist(df_metadata[\"lenObs_yr\"], bins=10,edgecolor='black')\n",
    "axs[0].set_xlabel(\"Length of observation [years]\")\n",
    "axs[0].set_ylabel(\"Number of stations\")\n",
    "axs[0].set_title(\"Record length (years)\")\n",
    "axs[0].set_ylim([0, 2520])  # set y-axis range\n",
    "\n",
    "axs[1].hist(df_metadata[\"Enddate\"], bins=10,edgecolor='black')\n",
    "axs[1].set_xlabel(\"End date\")\n",
    "axs[1].set_xlabel(\"End of observations\")\n",
    "axs[1].set_ylabel(\"Number of stations\")\n",
    "axs[1].set_title(\"Record ending date\")\n",
    "axs[1].set_ylim([0, 2520])  # set y-axis range\n",
    "\n",
    "# Adjust the layout and spacing of the subplots\n",
    "fig.tight_layout()\n",
    "\n",
    "\n",
    "# Save figure\n",
    "plt.savefig('GW_histograms.png')"
   ]
  },
  {
   "attachments": {},
   "cell_type": "markdown",
   "id": "d916d6f8",
   "metadata": {},
   "source": [
    "#### Interactive map of Stations locations"
   ]
  },
  {
   "cell_type": "code",
   "execution_count": 7,
   "id": "d0ae2288",
   "metadata": {},
   "outputs": [],
   "source": [
    "# Create a map centered at the mean coordinates of the data\n",
    "center_lat = df_metadata[\"Latitude\"].mean()\n",
    "center_lon = df_metadata[\"Longitude\"].mean()\n",
    "m = folium.Map(location=[center_lat, center_lon], zoom_start=6)\n",
    "\n",
    "# Add markers for each data point\n",
    "for index, row in df_metadata.iterrows():\n",
    "    lat = row[\"Latitude\"]\n",
    "    lon = row[\"Longitude\"]\n",
    "    len_obs = row[\"lenObs_yr\"]\n",
    "    marker_text = f\"lenObs_yr: {len_obs}\"\n",
    "    folium.Marker(location=[lat, lon], popup=marker_text).add_to(m)\n"
   ]
  },
  {
   "attachments": {},
   "cell_type": "markdown",
   "id": "707311f8",
   "metadata": {},
   "source": [
    "### Info from \"operative\" stations"
   ]
  },
  {
   "cell_type": "code",
   "execution_count": null,
   "id": "9ef81c55",
   "metadata": {},
   "outputs": [],
   "source": [
    "# Select the data for which the ending date was in 2022\n",
    "metadata_active= df_metadata[df_metadata['Active'] == True]\n",
    "\n",
    "# Get the indices of the selected rows\n",
    "selected_indices = metadata_active.index\n",
    "nstations= len(metadata_active)\n",
    "print(nstations)"
   ]
  },
  {
   "cell_type": "code",
   "execution_count": null,
   "id": "5c2fc287",
   "metadata": {},
   "outputs": [],
   "source": [
    "# Repeat histogram figure with \"Operative Stations\"\n",
    "fig, axs = plt.subplots(nrows=1, ncols=2, figsize=(10, 5))\n",
    "\n",
    "# Create a histogram of the \"lenObs\" values\n",
    "axs[0].hist(metadata_active[\"lenObs_yr\"], bins=10,edgecolor='black')\n",
    "axs[0].set_xlabel(\"Length of observation [years]\")\n",
    "axs[0].set_ylabel(\"Number of stations\")\n",
    "axs[0].set_title(\"Record length (years)\")\n",
    "axs[0].set_ylim([0, 550])  # set y-axis range\n",
    "\n",
    "axs[1].hist(metadata_active[\"Enddate\"], bins=10,edgecolor='black')\n",
    "axs[1].set_xlabel(\"End date\")\n",
    "axs[1].set_xlabel(\"End of observations\")\n",
    "axs[1].set_ylabel(\"Number of stations\")\n",
    "axs[1].set_title(\"Record ending date\")\n",
    "axs[1].set_ylim([0, 550])  # set y-axis range\n",
    "\n",
    "# Adjust the layout and spacing of the subplots\n",
    "fig.tight_layout()\n",
    "\n",
    "\n",
    "# Save figure\n",
    "plt.savefig('GW_histograms_active.png')"
   ]
  },
  {
   "cell_type": "code",
   "execution_count": 10,
   "id": "1574aa9c",
   "metadata": {},
   "outputs": [],
   "source": [
    "# Select active stations wiht record reaching until 2022\n",
    "metadata_active22 = metadata_active[metadata_active['Enddate'].dt.year == 2022]\n",
    "\n",
    "# Get the indices of the selected rows\n",
    "selected_indices22 = metadata_active22.index\n"
   ]
  },
  {
   "cell_type": "code",
   "execution_count": null,
   "id": "ec529096",
   "metadata": {
    "scrolled": true
   },
   "outputs": [],
   "source": [
    "# Repeat histogram figure with \"Operative Stations\"\n",
    "fig, axs = plt.subplots(nrows=1, ncols=2, figsize=(10, 5))\n",
    "\n",
    "# Create a histogram of the \"lenObs\" values\n",
    "axs[0].hist(metadata_active22[\"lenObs_yr\"], bins=10,edgecolor='black')\n",
    "axs[0].set_xlabel(\"Length of observation [years]\")\n",
    "axs[0].set_ylabel(\"Number of stations\")\n",
    "axs[0].set_title(\"Record length (years)\")\n",
    "axs[0].set_ylim([0, 550])  # set y-axis range\n",
    "\n",
    "axs[1].hist(metadata_active22[\"Enddate\"], bins=10,edgecolor='black')\n",
    "axs[1].set_xlabel(\"End date\")\n",
    "axs[1].set_xlabel(\"End of observations\")\n",
    "axs[1].set_ylabel(\"Number of stations\")\n",
    "axs[1].set_title(\"Record ending date\")\n",
    "axs[1].set_ylim([0, 550])  # set y-axis range\n",
    "\n",
    "# Adjust the layout and spacing of the subplots\n",
    "fig.tight_layout()\n",
    "\n",
    "\n",
    "# Save figure\n",
    "plt.savefig('GW_histograms_active22.png')"
   ]
  },
  {
   "attachments": {},
   "cell_type": "markdown",
   "id": "7675f3c7",
   "metadata": {},
   "source": [
    "#### Interactive map of Stations locations"
   ]
  },
  {
   "cell_type": "code",
   "execution_count": null,
   "id": "5c2a905d",
   "metadata": {},
   "outputs": [],
   "source": [
    "\n",
    "# Create a map centered at the mean coordinates of the data\n",
    "center_lat = metadata_active22[\"Latitude\"].mean()\n",
    "center_lon = metadata_active22[\"Longitude\"].mean()\n",
    "m = folium.Map(location=[center_lat, center_lon], zoom_start=6)\n",
    "\n",
    "# Add markers for each data point\n",
    "for index, row in metadata_active22.iterrows():\n",
    "    lat = row[\"Latitude\"]\n",
    "    lon = row[\"Longitude\"]\n",
    "    len_obs = row[\"lenObs_yr\"]\n",
    "    marker_text = f\"lenObs_yr: {len_obs}\"\n",
    "    folium.Marker(location=[lat, lon], popup=marker_text).add_to(m)\n"
   ]
  },
  {
   "attachments": {},
   "cell_type": "markdown",
   "id": "a398c666",
   "metadata": {},
   "source": [
    "#### Compute the percentage of missing values for each station"
   ]
  },
  {
   "cell_type": "code",
   "execution_count": 14,
   "id": "dc86bf03",
   "metadata": {},
   "outputs": [],
   "source": [
    "# Get the data of the previously selected stations\n",
    "\n",
    "df_data_22 = df_data.loc[selected_indices22]\n",
    "df_data_22 = df_data_22.T"
   ]
  },
  {
   "cell_type": "code",
   "execution_count": 15,
   "id": "8f450f79",
   "metadata": {},
   "outputs": [],
   "source": [
    "# Compute the percentage of NaNs for the entire time series.\n",
    "\n",
    "percentage_nans_dict = {}\n",
    "for col in df_data_22.columns:\n",
    "    num_nans = df_data_22[col].isna().sum()\n",
    "    percent = num_nans / len(df_data_22) * 100\n",
    "    percentage_nans_dict[col] = percent\n",
    "    \n",
    "# Create a pandas Series from the dictionary\n",
    "percentage_nans = pd.Series(percentage_nans_dict)\n"
   ]
  },
  {
   "cell_type": "code",
   "execution_count": null,
   "id": "eb11f2e2",
   "metadata": {},
   "outputs": [],
   "source": [
    "# Plot the results in a heatmap\n",
    "\n",
    "\n",
    "# Create a heatmap of the percentage of NaNs in each row\n",
    "sns.heatmap(pd.DataFrame(percentage_nans, columns=['Percentage NaNs']),cmap='YlGnBu', cbar_kws={'label': 'Percentage NaNs'}, xticklabels=False)\n",
    "plt.show()\n",
    "\n",
    "# Save figure\n",
    "plt.savefig('Total_NaNpercent.png')"
   ]
  },
  {
   "cell_type": "code",
   "execution_count": 17,
   "id": "a5ceabd4",
   "metadata": {},
   "outputs": [],
   "source": [
    "# Compute the annual percentage of NaNs for each station.\n",
    "\n",
    "# Create a time vector for the time series\n",
    "sdate = '1999-10-01'   # start date\n",
    "edate = '2022-07-28'   # end date\n",
    "start_date = pd.to_datetime(sdate)\n",
    "end_date = pd.to_datetime(edate)\n",
    "dates = pd.date_range(start_date,end_date, freq='MS')"
   ]
  },
  {
   "cell_type": "code",
   "execution_count": null,
   "id": "d9610369",
   "metadata": {},
   "outputs": [],
   "source": [
    "# Compute annual percentage of missing values in a dataframe.\n",
    "\n",
    "# Add date column to dataframe.\n",
    "df_data_22['date']=dates \n",
    "\n",
    "# Group by year and compute annual percentage of missing values.\n",
    "yearly_nan_percentages = df_data_22.groupby(df_data_22['date'].dt.year).apply(lambda x: x.isna().sum() / len(x) * 100) \n",
    "\n",
    "\n",
    "# Plot the results in a heatmap.\n",
    "sns.heatmap(yearly_nan_percentages.T, cmap='YlGnBu', cbar_kws={'label': 'Percentage NaNs'}, xticklabels=True)\n",
    "plt.show()\n",
    "\n",
    "# Save figure\n",
    "plt.savefig('Annual_NaNpercent.png')"
   ]
  },
  {
   "cell_type": "code",
   "execution_count": 19,
   "id": "074a28fb",
   "metadata": {},
   "outputs": [],
   "source": [
    "# Export the selected stations as two separate files:\n",
    "# (1) The metadata excel contains infromation about the stations. \n",
    "# (2) The data excel contains the timseries data for the selected stations.\n",
    "\n",
    "df_data_22.to_excel('stations_data22_active.xlsx')\n",
    "metadata_active22.to_excel('stations_metadadata22_active.xlsx')"
   ]
  }
 ],
 "metadata": {
  "kernelspec": {
   "display_name": "geoTools",
   "language": "python",
   "name": "python3"
  },
  "language_info": {
   "codemirror_mode": {
    "name": "ipython",
    "version": 3
   },
   "file_extension": ".py",
   "mimetype": "text/x-python",
   "name": "python",
   "nbconvert_exporter": "python",
   "pygments_lexer": "ipython3",
   "version": "3.10.8"
  }
 },
 "nbformat": 4,
 "nbformat_minor": 5
}
