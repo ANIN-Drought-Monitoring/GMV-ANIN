{
 "cells": [
  {
   "cell_type": "code",
   "execution_count": 1,
   "metadata": {},
   "outputs": [],
   "source": [
    "import numpy as np\n",
    "import pandas as pd\n",
    "import matplotlib.pyplot as plt\n",
    "import spei as si \n",
    "import geopandas as gpd\n",
    "from shapely.geometry import Point"
   ]
  },
  {
   "attachments": {},
   "cell_type": "markdown",
   "metadata": {},
   "source": [
    "### Import stations data"
   ]
  },
  {
   "cell_type": "code",
   "execution_count": 2,
   "metadata": {},
   "outputs": [],
   "source": [
    "# Import data and metadata\n",
    "\n",
    "# Load Metadata \n",
    "metadata_path = \"insert path to station data excel file\"\n",
    "meta_df = pd.read_excel(metadata_path)\n",
    "meta_df.set_index('Station',inplace=True)\n",
    "\n",
    "# Select the columns that are necessary for this code\n",
    "meta_df = meta_df.iloc[:, 0:2]\n",
    "\n",
    "# Load data\n",
    "df_path = \"path to pre-processed stations metadata excel file\"\n",
    "df = pd.read_excel(df_path)\n",
    "df = df.iloc[:,1:]\n",
    "df.set_index('date',inplace=True)"
   ]
  },
  {
   "attachments": {},
   "cell_type": "markdown",
   "metadata": {},
   "source": [
    "### Import boundaries for spatial distribution"
   ]
  },
  {
   "cell_type": "code",
   "execution_count": 3,
   "metadata": {},
   "outputs": [],
   "source": [
    "# Read the shapefile\n",
    "shapefile_path = 'Insert path to ecorigions (or other boundaries) shapefile'\n",
    "areas = gpd.read_file(shapefile_path)"
   ]
  },
  {
   "attachments": {},
   "cell_type": "markdown",
   "metadata": {},
   "source": [
    "### Compute the SGI for all the stations"
   ]
  },
  {
   "cell_type": "code",
   "execution_count": null,
   "metadata": {},
   "outputs": [],
   "source": [
    "# Create a new DataFrame to store the SGI values\n",
    "\n",
    "df_sgi = pd.DataFrame()\n",
    "\n",
    "# Apply the SGI function to each column of the DataFrame\n",
    "\n",
    "for column in df.columns:\n",
    "    df_sgi[column] = si.sgi(df[column])\n",
    "\n",
    "# Reset the index & Transpose the DataFrame\n",
    "dates = df_sgi.index.to_pydatetime()\n",
    "df_sgi = df_sgi.reset_index(drop = True)\n",
    "df_sgi = df_sgi.T\n"
   ]
  },
  {
   "attachments": {},
   "cell_type": "markdown",
   "metadata": {},
   "source": [
    "#### Perform the average of the SGI values at each timestep for each polygon in the shapefile"
   ]
  },
  {
   "cell_type": "code",
   "execution_count": null,
   "metadata": {},
   "outputs": [],
   "source": [
    "# Join with coordinate information in metadata dataframe\n",
    "df_latlon = df_sgi.join(meta_df)\n",
    "\n",
    "# Convert the stations dataframe into a GeoDataFrame by specifying the geometry column with the coordinates:\n",
    "\n",
    "geometry = [Point(xy) for xy in zip(df_latlon['Longitude'], df_latlon['Latitude'])]\n",
    "stations_gdf = gpd.GeoDataFrame(df_latlon, geometry=geometry)\n",
    "\n",
    "# Perform a spatial join between the polygons and the stations to determine which stations fall within each polygon:\n",
    "stations_by_polygon = gpd.sjoin(areas, stations_gdf, how='inner', op='contains')\n",
    "\n",
    "# Select the columns based on their numeric names\n",
    "time_step_columns = [col for col in stations_by_polygon.columns if str(col).isdigit()]\n",
    "\n",
    "# Group the stations by polygon and time step, and calculate the average for each group:\n",
    "averages = stations_by_polygon.groupby(['WMA_NewN'])[time_step_columns].mean()\n"
   ]
  },
  {
   "attachments": {},
   "cell_type": "markdown",
   "metadata": {},
   "source": [
    "#### Plot the resulting time series by area"
   ]
  },
  {
   "cell_type": "code",
   "execution_count": null,
   "metadata": {},
   "outputs": [],
   "source": [
    "\n",
    "# Iterate through the rows of the averages DataFrame\n",
    "for index, row in averages.iterrows():\n",
    "    # Extract the polygon ID from the index\n",
    "    polygon_id = index\n",
    "\n",
    "    # Create a pandas time series for the plot function to work\n",
    "    time_series = pd.Series(row.values, index=dates)\n",
    "    \n",
    "    # Create a plot for the current row\n",
    "    plt.figure()\n",
    "\n",
    "    # Plot the average values for each time step\n",
    "    si.plot.si(time_series)\n",
    "\n",
    "    # Set plot title and labels\n",
    "    plt.title(f\"Catchment: {polygon_id}\")\n",
    "    plt.xlabel(\"Time \")\n",
    "    plt.ylabel(\"SGI\")\n",
    "\n",
    "    # Save the plots\n",
    "    plt.savefig(f'{polygon_id}.png')\n"
   ]
  },
  {
   "cell_type": "code",
   "execution_count": null,
   "metadata": {},
   "outputs": [],
   "source": []
  }
 ],
 "metadata": {
  "kernelspec": {
   "display_name": "pastas",
   "language": "python",
   "name": "pastas"
  },
  "language_info": {
   "codemirror_mode": {
    "name": "ipython",
    "version": 3
   },
   "file_extension": ".py",
   "mimetype": "text/x-python",
   "name": "python",
   "nbconvert_exporter": "python",
   "pygments_lexer": "ipython3",
   "version": "3.10.9"
  },
  "orig_nbformat": 4
 },
 "nbformat": 4,
 "nbformat_minor": 2
}
