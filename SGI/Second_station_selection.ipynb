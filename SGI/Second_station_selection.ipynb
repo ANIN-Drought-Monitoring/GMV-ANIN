{
 "cells": [
  {
   "attachments": {},
   "cell_type": "markdown",
   "metadata": {},
   "source": [
    "## Second selection of GW stations based on the percentage of missing data"
   ]
  },
  {
   "cell_type": "code",
   "execution_count": 1,
   "metadata": {},
   "outputs": [],
   "source": [
    "import pandas as pd\n",
    "from datetime import datetime\n",
    "from datetime import date, timedelta\n",
    "import numpy as np\n",
    "import matplotlib.pyplot as plt\n",
    "import folium"
   ]
  },
  {
   "cell_type": "code",
   "execution_count": 2,
   "metadata": {},
   "outputs": [],
   "source": [
    "# Import data and metadata\n",
    "\n",
    "# Load Metadata \n",
    "metadata_path = \"path to pre-processed stations metadata excel file\"\n",
    "meta_df = pd.read_excel(metadata_path)\n",
    "\n",
    "\n",
    "# Load data\n",
    "df_path = \"path to pre-processed stations data excel file\"\n",
    "df = pd.read_excel(df_path)\n",
    "df = df.iloc[:,1:]"
   ]
  },
  {
   "cell_type": "code",
   "execution_count": 4,
   "metadata": {},
   "outputs": [],
   "source": [
    "# Create a time vector for the time series\n",
    "sdate = '1999-10-01'   # start date\n",
    "edate = '2022-07-28'   # end date\n",
    "start_date = pd.to_datetime(sdate)\n",
    "end_date = pd.to_datetime(edate)\n",
    "dates = pd.date_range(start_date,end_date, freq='MS')"
   ]
  },
  {
   "cell_type": "code",
   "execution_count": 5,
   "metadata": {},
   "outputs": [],
   "source": [
    "# Compute the percentage of NaNs for the entire time series.\n",
    "\n",
    "dfT = df.T\n",
    "percentage_nans_dict = {}\n",
    "for col in df.columns:\n",
    "    num_nans = df[col].isna().sum()\n",
    "    percent = num_nans / len(df) * 100\n",
    "    percentage_nans_dict[col] = percent\n",
    "    \n",
    "# Create a pandas Series from the dictionary\n",
    "percentage_nans = pd.Series(percentage_nans_dict)\n",
    "percentage_nans = percentage_nans.T\n"
   ]
  },
  {
   "cell_type": "code",
   "execution_count": null,
   "metadata": {},
   "outputs": [],
   "source": [
    "# Create a boolean mask & use the mask to select the stations with values below 80%\n",
    "mask = percentage_nans < 80\n",
    "selected_stations = percentage_nans[mask]\n",
    "\n",
    "# Get the corresponding indices\n",
    "selected_indices = selected_stations.index\n",
    "\n",
    "# Select corresponding GW data from using selected_indices\n",
    "df_selected = dfT.loc[selected_indices]\n",
    "\n",
    "print('Number of selected stations: ' + str(len(selected_stations)))"
   ]
  },
  {
   "attachments": {},
   "cell_type": "markdown",
   "metadata": {},
   "source": [
    "Compare selected_indices and df_selected to ensure that the right stations are selected:"
   ]
  },
  {
   "cell_type": "code",
   "execution_count": null,
   "metadata": {},
   "outputs": [],
   "source": [
    "# Convert the indices to strings\n",
    "selected_indices_str = [str(index) for index in selected_indices]\n",
    "df_indices_str = [str(index) for index in df_selected.index]\n",
    "\n",
    "# Check if the selected indices match the DataFrame indices\n",
    "matching_indices = [index for index in selected_indices_str if index in df_indices_str]\n",
    "\n",
    "# Compare the lengths and raise an error if they don't match\n",
    "if len(matching_indices) != len(selected_indices):\n",
    "    raise ValueError(\"The selected indices do not match the indices in the DataFrame.\")\n",
    "else:\n",
    "    print(\"Indices successfully matched! Good station selection :)\")\n"
   ]
  },
  {
   "attachments": {},
   "cell_type": "markdown",
   "metadata": {},
   "source": [
    "Continue the stations selection process based on the annual percentage of NaNs"
   ]
  },
  {
   "cell_type": "code",
   "execution_count": null,
   "metadata": {},
   "outputs": [],
   "source": [
    "# Compute annual percentage of missing values of the sations with less than 80% of missing values.\n",
    "df_selected = df_selected.T\n",
    "df_selected['date'] = dates\n",
    "yearly_nan_percentages = df_selected.groupby(df_selected['date'].dt.year).apply(lambda x: x.isna().sum() / len(x) * 100)\n",
    "\n",
    "# Repeat heatmap of annual NaNs per station\n",
    "import seaborn as sns\n",
    "sns.heatmap(yearly_nan_percentages.T, cmap='YlGnBu', cbar_kws={'label': 'Percentage NaNs'}, xticklabels=True)\n",
    "\n",
    "# Save figure\n",
    "plt.savefig('Annual_NaNpercent_80.png')\n"
   ]
  },
  {
   "cell_type": "code",
   "execution_count": 9,
   "metadata": {},
   "outputs": [],
   "source": [
    "# Define a function to check for consecutive values:  The NaN_threshold sets the NaN percent tolerance\n",
    "# The consecutive_threshold sets the maximum number of consecutive years above the NaN threshold.\n",
    "\n",
    "def check_consecutive(df,NaN_threshold,consecutive_threshold):\n",
    "    consecutive_count = 0\n",
    "    for value in df:\n",
    "        if value >= NaN_threshold:\n",
    "            consecutive_count += 1\n",
    "            if consecutive_count >= consecutive_threshold:\n",
    "                return True\n",
    "        else:\n",
    "            consecutive_count = 0\n",
    "    return False"
   ]
  },
  {
   "attachments": {},
   "cell_type": "markdown",
   "metadata": {},
   "source": [
    "Apply the function above to  yearly_nan_percentages "
   ]
  },
  {
   "cell_type": "code",
   "execution_count": null,
   "metadata": {},
   "outputs": [],
   "source": [
    "# List to store columns to be removed\n",
    "columns_to_remove = []\n",
    "\n",
    "# Iterate over each column\n",
    "for column in yearly_nan_percentages.columns:\n",
    "    # Check for consecutive values in the column\n",
    "    if check_consecutive(yearly_nan_percentages[column],80,12):\n",
    "        columns_to_remove.append(column)\n",
    "\n",
    "# Remove the columns from the dataframe\n",
    "df_consec_NaNs = yearly_nan_percentages.drop(columns_to_remove, axis=1)\n",
    "\n",
    "# Remove the columns from the GW data\n",
    "df_selected_yearly = df_selected.drop(columns_to_remove, axis=1)\n",
    "\n",
    "print('Initial number of stations: ' + str(yearly_nan_percentages.shape[1]))\n",
    "print('Stations to remove: ' + str(len(columns_to_remove)))\n",
    "print('The final number of selected stations is: ' + str(df_selected_yearly.shape[1]))\n"
   ]
  },
  {
   "cell_type": "code",
   "execution_count": null,
   "metadata": {},
   "outputs": [],
   "source": [
    "# Repeat heatmap for final station selection\n",
    "import seaborn as sns\n",
    "sns.heatmap(df_consec_NaNs.T, cmap='YlGnBu', cbar_kws={'label': 'Percentage NaNs'}, xticklabels=True)\n",
    "\n",
    "# Save figure\n",
    "plt.savefig('Annual_NaNpercent_consecutive.png')\n"
   ]
  },
  {
   "attachments": {},
   "cell_type": "markdown",
   "metadata": {},
   "source": [
    "Get the metadata of the final selection of stations"
   ]
  },
  {
   "cell_type": "code",
   "execution_count": 12,
   "metadata": {},
   "outputs": [],
   "source": [
    "# Get the column names of the selected stations\n",
    "selected_columns = df_selected_yearly.columns\n",
    "\n",
    "# Select the corresponding information in the metadata dataframe using isin()\n",
    "meta_selected_yearly = meta_df[meta_df['Station'].isin(selected_columns)]"
   ]
  },
  {
   "cell_type": "code",
   "execution_count": null,
   "metadata": {},
   "outputs": [],
   "source": [
    "print('metadata len:',len(meta_selected_yearly))\n",
    "print('selected columns len:',len(selected_columns))"
   ]
  },
  {
   "cell_type": "code",
   "execution_count": null,
   "metadata": {},
   "outputs": [],
   "source": [
    "# Create a map centered at the mean coordinates of the data\n",
    "center_lat = meta_selected_yearly[\"Latitude\"].mean()\n",
    "center_lon = meta_selected_yearly[\"Longitude\"].mean()\n",
    "m = folium.Map(location=[center_lat, center_lon], zoom_start=6)\n",
    "\n",
    "# Add markers for each data point\n",
    "for index, row in meta_selected_yearly.iterrows():\n",
    "    lat = row[\"Latitude\"]\n",
    "    lon = row[\"Longitude\"]\n",
    "    len_obs = row[\"lenObs_yr\"]\n",
    "    marker_text = f\"lenObs_yr: {len_obs}\"\n",
    "    folium.Marker(location=[lat, lon], popup=marker_text).add_to(m)\n",
    "m"
   ]
  },
  {
   "attachments": {},
   "cell_type": "markdown",
   "metadata": {},
   "source": []
  }
 ],
 "metadata": {
  "kernelspec": {
   "display_name": "geoData",
   "language": "python",
   "name": "geodata"
  },
  "language_info": {
   "codemirror_mode": {
    "name": "ipython",
    "version": 3
   },
   "file_extension": ".py",
   "mimetype": "text/x-python",
   "name": "python",
   "nbconvert_exporter": "python",
   "pygments_lexer": "ipython3",
   "version": "3.10.8"
  },
  "orig_nbformat": 4
 },
 "nbformat": 4,
 "nbformat_minor": 2
}
