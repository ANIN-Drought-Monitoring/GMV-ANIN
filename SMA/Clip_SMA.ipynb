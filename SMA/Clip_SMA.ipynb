{
 "cells": [
  {
   "cell_type": "markdown",
   "id": "0f6193c4",
   "metadata": {},
   "source": [
    "## Libraries"
   ]
  },
  {
   "cell_type": "code",
   "execution_count": 1,
   "id": "22a2ddad",
   "metadata": {},
   "outputs": [
    {
     "name": "stderr",
     "output_type": "stream",
     "text": [
      "C:\\Users\\enhi\\AppData\\Local\\Temp\\ipykernel_4784\\3461951.py:4: UserWarning: Shapely 2.0 is installed, but because PyGEOS is also installed, GeoPandas will still use PyGEOS by default for now. To force to use and test Shapely 2.0, you have to set the environment variable USE_PYGEOS=0. You can do this before starting the Python process, or in your code before importing geopandas:\n",
      "\n",
      "import os\n",
      "os.environ['USE_PYGEOS'] = '0'\n",
      "import geopandas\n",
      "\n",
      "In a future release, GeoPandas will switch to using Shapely by default. If you are using PyGEOS directly (calling PyGEOS functions on geometries from GeoPandas), this will then stop working and you are encouraged to migrate from PyGEOS to Shapely 2.0 (https://shapely.readthedocs.io/en/latest/migration_pygeos.html).\n",
      "  import geopandas as gpd\n"
     ]
    }
   ],
   "source": [
    "import os\n",
    "import rioxarray as rxr\n",
    "from shapely.geometry import mapping\n",
    "import geopandas as gpd\n",
    "import rasterio as rio"
   ]
  },
  {
   "cell_type": "code",
   "execution_count": 7,
   "id": "6aa3f183",
   "metadata": {},
   "outputs": [],
   "source": [
    "main_dir = r'C:\\Users\\enhi\\OneDrive - gmv.com\\Documents\\Projects\\ANIN\\Generating Indices\\SMA'\n",
    "\n",
    "monthly_SMA = os.path.join(main_dir, 'SMA_monthly')\n",
    "# Output directory\n",
    "Clipped_path = os.path.join(main_dir, 'Clipped_SMA')\n",
    "# Directory for boundary shp\n",
    "Boundary = os.path.join(main_dir, 'Boundary')\n",
    "# CRS of the project\n",
    "Copernicus_ex =rxr.open_rasterio(r'C:\\Users\\enhi\\OneDrive - gmv.com\\Documents\\Projects\\ANIN\\Generating Indices\\FAPAR anomaly\\Monthly_FAPAR_Glass\\April\\2000April.tif', masked =True)\n",
    "Copernicus_ex_crs = Copernicus_ex.rio.crs"
   ]
  },
  {
   "cell_type": "code",
   "execution_count": 8,
   "id": "17913336",
   "metadata": {},
   "outputs": [
    {
     "name": "stdout",
     "output_type": "stream",
     "text": [
      "Shapefile loaded. To prepare for masking, run the function\n",
      "        `select_shape`.\n",
      "Mask created.\n"
     ]
    }
   ],
   "source": [
    "# Load the shapefile\n",
    "def load_shape_file(filepath):\n",
    "    \"\"\"Loads the shape file desired to mask a grid.\n",
    "    Args:\n",
    "        filepath: Path to *.shp file\n",
    "    \"\"\"\n",
    "    shpfile = gpd.read_file(filepath)\n",
    "    print(\"\"\"Shapefile loaded. To prepare for masking, run the function\n",
    "        `select_shape`.\"\"\")\n",
    "    return shpfile\n",
    "\n",
    "#Create the mask\n",
    "def select_shape(shpfile):\n",
    "\n",
    "    \"\"\"Select the submask of interest from the shapefile.\n",
    "    Args:\n",
    "        shpfile: (*.shp) loaded through `load_shape_file`\n",
    "        category: (str) header of shape file from which to filter shape.\n",
    "            (Run print(shpfile) to see options)\n",
    "        name: (str) name of shape relative to category.\n",
    "           Returns:\n",
    "        shapely polygon\n",
    "    \"\"\"\n",
    "\n",
    "    col_code = 'ISO3_CODE'\n",
    "    country_codes = ['ZAF', 'LSO', 'SWZ']\n",
    "\n",
    "    # Extract the rows that have 'ZAF', 'LSO', or 'SWZ' in the 'SOV_A3' column\n",
    "    selected_rows = shpfile[shpfile[col_code].isin(country_codes)]\n",
    "\n",
    "    # Combine the selected polygons into a single polygon\n",
    "    unioned_polygon = selected_rows.geometry.unary_union\n",
    "\n",
    "    # Convert the unioned polygon to a geopandas dataframe with a single row\n",
    "    mask_polygon = gpd.GeoDataFrame(geometry=[unioned_polygon])\n",
    "    \n",
    "    print(\"\"\"Mask created.\"\"\")\n",
    "\n",
    "    return mask_polygon\n",
    "shpfile = load_shape_file(Boundary + '\\\\'+ 'CNTR_RG_01M_2020_4326.shp')\n",
    "AOI = select_shape(shpfile)\n",
    "# Define a crs to the AOI \n",
    "AOI.crs =Copernicus_ex_crs"
   ]
  },
  {
   "cell_type": "code",
   "execution_count": 14,
   "id": "02c04a15",
   "metadata": {},
   "outputs": [],
   "source": [
    "# looping through SMA images\n",
    "for image in os.listdir(monthly_SMA):\n",
    "    # path to the image\n",
    "    path = os.path.join(monthly_SMA, image)\n",
    "    # open the image as xarray\n",
    "    SMA =rxr.open_rasterio(path, masked = True)\n",
    "    # Clipping to the AOI\n",
    "    clipped = SMA.rio.clip(AOI.geometry.apply(mapping),\n",
    "                                     crs=AOI.crs,\n",
    "                                     all_touched=True,\n",
    "                                     from_disk=True).squeeze()\n",
    "    # Export clipped images with the name of month and year\n",
    "    clipped.rio.to_raster(Clipped_path + '\\\\'+ image[12:18]+ '.tif')"
   ]
  }
 ],
 "metadata": {
  "kernelspec": {
   "display_name": "rasterio",
   "language": "python",
   "name": "rasterio"
  },
  "language_info": {
   "codemirror_mode": {
    "name": "ipython",
    "version": 3
   },
   "file_extension": ".py",
   "mimetype": "text/x-python",
   "name": "python",
   "nbconvert_exporter": "python",
   "pygments_lexer": "ipython3",
   "version": "3.11.0"
  }
 },
 "nbformat": 4,
 "nbformat_minor": 5
}
