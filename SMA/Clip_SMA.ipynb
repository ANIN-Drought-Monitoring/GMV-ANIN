{
 "cells": [
  {
   "cell_type": "markdown",
   "id": "0f6193c4",
   "metadata": {},
   "source": [
    "## Libraries"
   ]
  },
  {
   "cell_type": "code",
   "execution_count": 1,
   "id": "22a2ddad",
   "metadata": {},
   "outputs": [
    {
     "name": "stderr",
     "output_type": "stream",
     "text": [
      "Warning: Shapely 2.0 is installed, but because PyGEOS is also installed, GeoPandas defaults to PyGEOS. To use Shapely, set USE_PYGEOS=0 before importing geopandas.\n",
      "Example:\n",
      "import os\n",
      "os.environ['USE_PYGEOS'] = '0'\n",
      "import geopandas\n"
     ]
    }
   ],
   "source": [
    "import os\n",
    "import rioxarray as rxr\n",
    "from shapely.geometry import mapping\n",
    "import geopandas as gpd\n",
    "import rasterio as rio"
   ]
  },
  {
   "cell_type": "code",
   "execution_count": 7,
   "id": "6aa3f183",
   "metadata": {},
   "outputs": [],
   "source": [
    "# Set main directory and paths\n",
    "main_dir = 'path_to_main_directory'\n",
    "monthly_SMA = os.path.join(main_dir, 'SMA_monthly')\n",
    "Clipped_path = os.path.join(main_dir, 'Clipped_SMA')\n",
    "Boundary = os.path.join(main_dir, 'Boundary')\n",
    "# Load example raster to get CRS\n",
    "Copernicus_ex = rxr.open_rasterio(os.path.join(main_dir, 'example_copernicus_fapar.tif'), masked=True)\n",
    "Copernicus_ex_crs = Copernicus_ex.rio.crs"
   ]
  },
  {
   "cell_type": "code",
   "execution_count": 8,
   "id": "17913336",
   "metadata": {},
   "outputs": [
    {
     "name": "stdout",
     "output_type": "stream",
     "text": [
      "Shapefile loaded. To prepare for masking, run the function `select_shape`.\n",
      "Mask created.\n"
     ]
    }
   ],
   "source": [
    "# Load the shapefile\n",
    "def load_shape_file(filepath):\n",
    "    \"\"\"Loads the shapefile to create an AOI mask for clipping.\"\"\"\n",
    "    shpfile = gpd.read_file(filepath)\n",
    "    print(\"Shapefile loaded. To prepare for masking, run the function `select_shape`.\")\n",
    "    return shpfile\n",
    "\n",
    "# Create AOI mask from shapefile\n",
    "def select_shape(shpfile):\n",
    "    col_code = 'ISO3_CODE'\n",
    "    country_codes = ['ZAF', 'LSO', 'SWZ']\n",
    "    selected_rows = shpfile[shpfile[col_code].isin(country_codes)]\n",
    "    unioned_polygon = selected_rows.geometry.unary_union\n",
    "    mask_polygon = gpd.GeoDataFrame(geometry=[unioned_polygon])\n",
    "    print(\"Mask created.\")\n",
    "    return mask_polygon\n",
    "\n",
    "shpfile = load_shape_file(os.path.join(Boundary, 'boundary_shapefile.shp'))\n",
    "AOI = select_shape(shpfile)\n",
    "# Assign CRS to AOI based on example raster\n",
    "AOI.crs = Copernicus_ex_crs"
   ]
  },
  {
   "cell_type": "code",
   "execution_count": 14,
   "id": "02c04a15",
   "metadata": {},
   "outputs": [],
   "source": [
    "# Process each SMA image in the monthly SMA directory\n",
    "for image in os.listdir(monthly_SMA):\n",
    "    # Path to current image\n",
    "    path = os.path.join(monthly_SMA, image)\n",
    "    # Open image as xarray\n",
    "    SMA = rxr.open_rasterio(path, masked=True)\n",
    "    # Clip to AOI\n",
    "    clipped = SMA.rio.clip(AOI.geometry.apply(mapping),\n",
    "                           crs=AOI.crs,\n",
    "                           all_touched=True,\n",
    "                           from_disk=True).squeeze()\n",
    "    # Save clipped image with month and year in name\n",
    "    clipped.rio.to_raster(os.path.join(Clipped_path, image[12:18] + '.tif'))"
   ]
  }
 ],
 "metadata": {
  "kernelspec": {
   "display_name": "Python 3",
   "language": "python",
   "name": "python3"
  },
  "language_info": {
   "codemirror_mode": {
    "name": "ipython",
    "version": 3
   },
   "file_extension": ".py",
   "mimetype": "text/x-python",
   "name": "python",
   "nbconvert_exporter": "python",
   "pygments_lexer": "ipython3",
   "version": "3.8.8"
  }
 },
 "nbformat": 4,
 "nbformat_minor": 5
}
