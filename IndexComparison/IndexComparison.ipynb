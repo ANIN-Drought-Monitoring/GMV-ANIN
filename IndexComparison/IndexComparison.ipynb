{
 "cells": [
  {
   "cell_type": "code",
   "execution_count": null,
   "metadata": {},
   "outputs": [],
   "source": [
    "import xarray as xr\n",
    "import os\n",
    "import rioxarray as rio\n"
   ]
  },
  {
   "attachments": {},
   "cell_type": "markdown",
   "metadata": {},
   "source": [
    "### Define paths to input files (indices)"
   ]
  },
  {
   "cell_type": "code",
   "execution_count": null,
   "metadata": {},
   "outputs": [],
   "source": [
    "SPEI = \"\\\\gmvstorage.gmv.es\\storage\\anin\\SPEI\\outputs\\SPEI3.nc\"\n",
    "SPI = \"\\\\gmvstorage.gmv.es\\storage\\anin\\SPI\\outputs\\SPI.nc\"\n"
   ]
  },
  {
   "cell_type": "code",
   "execution_count": null,
   "metadata": {},
   "outputs": [],
   "source": []
  }
 ],
 "metadata": {
  "language_info": {
   "name": "python"
  },
  "orig_nbformat": 4
 },
 "nbformat": 4,
 "nbformat_minor": 2
}
